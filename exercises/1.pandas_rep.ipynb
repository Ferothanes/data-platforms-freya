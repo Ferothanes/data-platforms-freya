{
 "cells": [
  {
   "cell_type": "markdown",
   "metadata": {},
   "source": [
    "# Pandas repetition\n"
   ]
  },
  {
   "cell_type": "markdown",
   "metadata": {},
   "source": [
    "## 0.Working with national test data"
   ]
  },
  {
   "cell_type": "markdown",
   "metadata": {},
   "source": [
    "### **a)** Start with reading in the file riket2023_åk9_np.xlsx and the sheets for the different subjects."
   ]
  },
  {
   "cell_type": "code",
   "execution_count": 179,
   "metadata": {},
   "outputs": [
    {
     "data": {
      "text/plain": [
       "dict_keys(['Engelska', 'Matematik', 'Svenska', 'Svenska som andraspråk'])"
      ]
     },
     "execution_count": 179,
     "metadata": {},
     "output_type": "execute_result"
    }
   ],
   "source": [
    "#läser in från excel i datamappen\n",
    "import pandas as pd\n",
    "\n",
    "# Define the file path to the Excel file containing the data.\n",
    "# This is the file that will be processed later in the code.\n",
    "national_test_file_path = \"data/riket2023_åk9_np.xlsx\"\n",
    "\n",
    "# Read the Excel file to get a list of all sheet names in the file.\n",
    "# `pd.ExcelFile()` creates an object that allows you to interact with the Excel file.\n",
    "# `.sheet_names` extracts the names of all the sheets in the file as a list.\n",
    "sheet_names = pd.ExcelFile(national_test_file_path).sheet_names\n",
    "\n",
    "\n",
    "# Initialize an empty dictionary to store dataframes.\n",
    "df_dict = {}\n",
    "\n",
    "# Loop through all the sheet names in the variable `sheet_names` except the last one.\n",
    "for sheet_name in sheet_names[:-1]:\n",
    "    # For each sheet name, read the corresponding Excel sheet from the file.\n",
    "    # `national_test_file_path` is the path to the Excel file.\n",
    "    # `skiprows=8` tells pandas to skip the first 8 rows of the sheet (possibly to skip headers or metadata).\n",
    "    # `sheet_name=sheet_name` specifies which sheet in the Excel file to read.\n",
    "    df_dict[sheet_name] = pd.read_excel(\n",
    "        national_test_file_path, skiprows=8, sheet_name=sheet_name\n",
    "    )\n",
    "\n",
    "# Get and display the keys (sheet names) in the dictionary `df_dict`.\n",
    "# This confirms that the dataframes were successfully added to the dictionary.\n",
    "df_dict.keys()\n"
   ]
  },
  {
   "cell_type": "code",
   "execution_count": 180,
   "metadata": {},
   "outputs": [
    {
     "data": {
      "text/html": [
       "<div>\n",
       "<style scoped>\n",
       "    .dataframe tbody tr th:only-of-type {\n",
       "        vertical-align: middle;\n",
       "    }\n",
       "\n",
       "    .dataframe tbody tr th {\n",
       "        vertical-align: top;\n",
       "    }\n",
       "\n",
       "    .dataframe thead th {\n",
       "        text-align: right;\n",
       "    }\n",
       "</style>\n",
       "<table border=\"1\" class=\"dataframe\">\n",
       "  <thead>\n",
       "    <tr style=\"text-align: right;\">\n",
       "      <th></th>\n",
       "      <th>Riket</th>\n",
       "      <th>Typ av huvudman</th>\n",
       "      <th>Totalt</th>\n",
       "      <th>Flickor</th>\n",
       "      <th>Pojkar</th>\n",
       "      <th>Totalt</th>\n",
       "      <th>Flickor</th>\n",
       "      <th>Pojkar</th>\n",
       "      <th>Totalt</th>\n",
       "      <th>Flickor</th>\n",
       "      <th>Pojkar</th>\n",
       "    </tr>\n",
       "  </thead>\n",
       "  <tbody>\n",
       "    <tr>\n",
       "      <th>0</th>\n",
       "      <td>Riket</td>\n",
       "      <td>Samtliga</td>\n",
       "      <td>106766</td>\n",
       "      <td>51548</td>\n",
       "      <td>55218</td>\n",
       "      <td>89.1</td>\n",
       "      <td>88.7</td>\n",
       "      <td>89.5</td>\n",
       "      <td>11.9</td>\n",
       "      <td>11.8</td>\n",
       "      <td>12.0</td>\n",
       "    </tr>\n",
       "    <tr>\n",
       "      <th>1</th>\n",
       "      <td>Riket</td>\n",
       "      <td>Kommunal</td>\n",
       "      <td>84163</td>\n",
       "      <td>40386</td>\n",
       "      <td>43777</td>\n",
       "      <td>88.1</td>\n",
       "      <td>87.7</td>\n",
       "      <td>88.5</td>\n",
       "      <td>11.6</td>\n",
       "      <td>11.5</td>\n",
       "      <td>11.7</td>\n",
       "    </tr>\n",
       "    <tr>\n",
       "      <th>2</th>\n",
       "      <td>Riket</td>\n",
       "      <td>Enskild</td>\n",
       "      <td>22553</td>\n",
       "      <td>11137</td>\n",
       "      <td>11416</td>\n",
       "      <td>92.9</td>\n",
       "      <td>92.2</td>\n",
       "      <td>93.5</td>\n",
       "      <td>13.0</td>\n",
       "      <td>12.8</td>\n",
       "      <td>13.1</td>\n",
       "    </tr>\n",
       "    <tr>\n",
       "      <th>3</th>\n",
       "      <td>Riket</td>\n",
       "      <td>Skolverket</td>\n",
       "      <td>50</td>\n",
       "      <td>25</td>\n",
       "      <td>25</td>\n",
       "      <td>~100</td>\n",
       "      <td>~100</td>\n",
       "      <td>~100</td>\n",
       "      <td>14.1</td>\n",
       "      <td>13.5</td>\n",
       "      <td>14.7</td>\n",
       "    </tr>\n",
       "  </tbody>\n",
       "</table>\n",
       "</div>"
      ],
      "text/plain": [
       "   Riket Typ av huvudman  Totalt  Flickor  Pojkar Totalt  Flickor  Pojkar   \\\n",
       "0  Riket        Samtliga  106766    51548   55218    89.1     88.7    89.5   \n",
       "1  Riket        Kommunal   84163    40386   43777    88.1     87.7    88.5   \n",
       "2  Riket         Enskild   22553    11137   11416    92.9     92.2    93.5   \n",
       "3  Riket      Skolverket      50       25      25    ~100     ~100    ~100   \n",
       "\n",
       "   Totalt    Flickor    Pojkar    \n",
       "0      11.9       11.8      12.0  \n",
       "1      11.6       11.5      11.7  \n",
       "2      13.0       12.8      13.1  \n",
       "3      14.1       13.5      14.7  "
      ]
     },
     "execution_count": 180,
     "metadata": {},
     "output_type": "execute_result"
    }
   ],
   "source": [
    "df_dict[\"Matematik\"]"
   ]
  },
  {
   "cell_type": "code",
   "execution_count": 181,
   "metadata": {},
   "outputs": [
    {
     "data": {
      "text/plain": [
       "['Engelska', 'Matematik', 'Svenska', 'Svenska som andraspråk']"
      ]
     },
     "execution_count": 181,
     "metadata": {},
     "output_type": "execute_result"
    }
   ],
   "source": [
    "# Create a list of all the keys (sheet names/excel sheet) from the dictionary `df_dict`.\n",
    "# `df_dict.keys()` returns a view of the dictionary's keys, which are the sheet names.\n",
    "# `list()` converts this view into a standard Python list.\n",
    "subjects = list(df_dict.keys())\n",
    "subjects"
   ]
  },
  {
   "cell_type": "markdown",
   "metadata": {},
   "source": [
    " ### **b)** change name of columns"
   ]
  },
  {
   "cell_type": "code",
   "execution_count": 182,
   "metadata": {},
   "outputs": [
    {
     "data": {
      "text/plain": [
       "Index(['Riket', 'Typ av huvudman', 'Totalt', 'Flickor', 'Pojkar', 'Totalt ',\n",
       "       'Flickor ', 'Pojkar ', 'Totalt  ', 'Flickor  ', 'Pojkar  '],\n",
       "      dtype='object')"
      ]
     },
     "execution_count": 182,
     "metadata": {},
     "output_type": "execute_result"
    }
   ],
   "source": [
    "#visar alla columner i sheet Engelska \n",
    "df_dict[\"Engelska\"].columns"
   ]
  },
  {
   "cell_type": "code",
   "execution_count": 183,
   "metadata": {},
   "outputs": [
    {
     "data": {
      "text/plain": [
       "array(['', '', ' (A-F)', ' (A-F)', ' (A-F)', ' poäng', ' poäng', ' poäng',\n",
       "       ' A-E', ' A-E', ' A-E'], dtype='<U6')"
      ]
     },
     "execution_count": 183,
     "metadata": {},
     "output_type": "execute_result"
    }
   ],
   "source": [
    "import numpy as np\n",
    "\n",
    "postfixes = [\"\"]*2 + [\" (A-F)\"]*3 + [(\" poäng\")]*3 + [(\" A-E\")]*3\n",
    "np.array(postfixes)"
   ]
  },
  {
   "cell_type": "code",
   "execution_count": 184,
   "metadata": {},
   "outputs": [
    {
     "data": {
      "text/plain": [
       "Index(['Riket', 'Typ av huvudman', ' (A-F)Totalt', ' (A-F)Flickor',\n",
       "       ' (A-F)Pojkar', ' poängTotalt ', ' poängFlickor ', ' poängPojkar ',\n",
       "       ' A-ETotalt  ', ' A-EFlickor  ', ' A-EPojkar  '],\n",
       "      dtype='object')"
      ]
     },
     "execution_count": 184,
     "metadata": {},
     "output_type": "execute_result"
    }
   ],
   "source": [
    "#concatinera listorna postfixes och df_dict \n",
    "np.array(postfixes) + df_dict[\"Engelska\"].columns"
   ]
  },
  {
   "cell_type": "code",
   "execution_count": 185,
   "metadata": {},
   "outputs": [
    {
     "data": {
      "text/plain": [
       "Index(['Riket', 'Typ av huvudman', 'Totalt (A-F)', 'Flickor (A-F)',\n",
       "       'Pojkar (A-F)', 'Totalt poäng', 'Flickor poäng', 'Pojkar poäng',\n",
       "       'Totalt A-E', 'Flickor A-E', 'Pojkar A-E'],\n",
       "      dtype='object')"
      ]
     },
     "execution_count": 185,
     "metadata": {},
     "output_type": "execute_result"
    }
   ],
   "source": [
    "#outputen efter övre input visar oordning, extra mellanslag etc, \n",
    "# därför vill vi finslipa med hjälp av strip etc\n",
    "df_dict[\"Engelska\"].columns.str.strip() + np.array(postfixes)"
   ]
  },
  {
   "cell_type": "markdown",
   "metadata": {},
   "source": [
    "**NEW column names**"
   ]
  },
  {
   "cell_type": "code",
   "execution_count": 186,
   "metadata": {},
   "outputs": [
    {
     "data": {
      "text/html": [
       "<div>\n",
       "<style scoped>\n",
       "    .dataframe tbody tr th:only-of-type {\n",
       "        vertical-align: middle;\n",
       "    }\n",
       "\n",
       "    .dataframe tbody tr th {\n",
       "        vertical-align: top;\n",
       "    }\n",
       "\n",
       "    .dataframe thead th {\n",
       "        text-align: right;\n",
       "    }\n",
       "</style>\n",
       "<table border=\"1\" class=\"dataframe\">\n",
       "  <thead>\n",
       "    <tr style=\"text-align: right;\">\n",
       "      <th></th>\n",
       "      <th>Plats</th>\n",
       "      <th>Huvudman</th>\n",
       "      <th>Totalt (A-F)</th>\n",
       "      <th>Flickor (A-F)</th>\n",
       "      <th>Pojkar (A-F)</th>\n",
       "      <th>Totalt poäng</th>\n",
       "      <th>Flickor poäng</th>\n",
       "      <th>Pojkar poäng</th>\n",
       "      <th>Totalt A-E</th>\n",
       "      <th>Flickor A-E</th>\n",
       "      <th>Pojkar A-E</th>\n",
       "    </tr>\n",
       "  </thead>\n",
       "  <tbody>\n",
       "    <tr>\n",
       "      <th>0</th>\n",
       "      <td>Riket</td>\n",
       "      <td>Samtliga</td>\n",
       "      <td>106766</td>\n",
       "      <td>51548</td>\n",
       "      <td>55218</td>\n",
       "      <td>89.1</td>\n",
       "      <td>88.7</td>\n",
       "      <td>89.5</td>\n",
       "      <td>11.9</td>\n",
       "      <td>11.8</td>\n",
       "      <td>12.0</td>\n",
       "    </tr>\n",
       "    <tr>\n",
       "      <th>1</th>\n",
       "      <td>Riket</td>\n",
       "      <td>Kommunal</td>\n",
       "      <td>84163</td>\n",
       "      <td>40386</td>\n",
       "      <td>43777</td>\n",
       "      <td>88.1</td>\n",
       "      <td>87.7</td>\n",
       "      <td>88.5</td>\n",
       "      <td>11.6</td>\n",
       "      <td>11.5</td>\n",
       "      <td>11.7</td>\n",
       "    </tr>\n",
       "    <tr>\n",
       "      <th>2</th>\n",
       "      <td>Riket</td>\n",
       "      <td>Enskild</td>\n",
       "      <td>22553</td>\n",
       "      <td>11137</td>\n",
       "      <td>11416</td>\n",
       "      <td>92.9</td>\n",
       "      <td>92.2</td>\n",
       "      <td>93.5</td>\n",
       "      <td>13.0</td>\n",
       "      <td>12.8</td>\n",
       "      <td>13.1</td>\n",
       "    </tr>\n",
       "    <tr>\n",
       "      <th>3</th>\n",
       "      <td>Riket</td>\n",
       "      <td>Skolverket</td>\n",
       "      <td>50</td>\n",
       "      <td>25</td>\n",
       "      <td>25</td>\n",
       "      <td>~100</td>\n",
       "      <td>~100</td>\n",
       "      <td>~100</td>\n",
       "      <td>14.1</td>\n",
       "      <td>13.5</td>\n",
       "      <td>14.7</td>\n",
       "    </tr>\n",
       "  </tbody>\n",
       "</table>\n",
       "</div>"
      ],
      "text/plain": [
       "   Plats    Huvudman  Totalt (A-F)  Flickor (A-F)  Pojkar (A-F) Totalt poäng  \\\n",
       "0  Riket    Samtliga        106766          51548         55218         89.1   \n",
       "1  Riket    Kommunal         84163          40386         43777         88.1   \n",
       "2  Riket     Enskild         22553          11137         11416         92.9   \n",
       "3  Riket  Skolverket            50             25            25         ~100   \n",
       "\n",
       "  Flickor poäng Pojkar poäng  Totalt A-E  Flickor A-E  Pojkar A-E  \n",
       "0          88.7         89.5        11.9         11.8        12.0  \n",
       "1          87.7         88.5        11.6         11.5        11.7  \n",
       "2          92.2         93.5        13.0         12.8        13.1  \n",
       "3          ~100         ~100        14.1         13.5        14.7  "
      ]
     },
     "execution_count": 186,
     "metadata": {},
     "output_type": "execute_result"
    }
   ],
   "source": [
    "from copy import deepcopy #copy har fortfarande referenser kvar från minnesadressen. Deepcopy är en helt ny minnesadress\n",
    "\n",
    "#behöver skapa en deep kopia av det förra dict eftersom de ändrade titlarna staplas varje gång programmet körs\n",
    "df_dict_cleaned = deepcopy(df_dict)\n",
    "\n",
    "for subject in subjects:\n",
    "    new_columns = df_dict_cleaned[subject].columns.str.strip() + np.array(postfixes)\n",
    "    \n",
    "    df_dict_cleaned[subject].columns = new_columns\n",
    "    df_dict_cleaned[subject] = df_dict_cleaned[subject].rename( # Rename the columns of the DataFrame for a specific subject\n",
    "        {\"Riket\": \"Plats\", \"Typ av huvudman\": \"Huvudman\"}, axis=1 # Rename \"Riket: \" to \"Nation\"//axis=1 means columns, axis=0 means rows\n",
    "        )\n",
    "\n",
    "df_dict_cleaned[\"Matematik\"]"
   ]
  },
  {
   "cell_type": "markdown",
   "metadata": {},
   "source": [
    "### **c)** EDA (Exploratory Data Analysis)\n",
    "Do some initial exploratory data analysis on this dataset. Use methods such as info, value_counts, columns, describe and some more to get a first insight into the dataset."
   ]
  },
  {
   "cell_type": "code",
   "execution_count": 187,
   "metadata": {},
   "outputs": [
    {
     "name": "stdout",
     "output_type": "stream",
     "text": [
      "<class 'pandas.core.frame.DataFrame'>\n",
      "RangeIndex: 4 entries, 0 to 3\n",
      "Data columns (total 11 columns):\n",
      " #   Column         Non-Null Count  Dtype  \n",
      "---  ------         --------------  -----  \n",
      " 0   Plats          4 non-null      object \n",
      " 1   Huvudman       4 non-null      object \n",
      " 2   Totalt (A-F)   4 non-null      int64  \n",
      " 3   Flickor (A-F)  4 non-null      int64  \n",
      " 4   Pojkar (A-F)   4 non-null      int64  \n",
      " 5   Totalt poäng   4 non-null      object \n",
      " 6   Flickor poäng  4 non-null      object \n",
      " 7   Pojkar poäng   4 non-null      object \n",
      " 8   Totalt A-E     4 non-null      float64\n",
      " 9   Flickor A-E    4 non-null      float64\n",
      " 10  Pojkar A-E     4 non-null      float64\n",
      "dtypes: float64(3), int64(3), object(5)\n",
      "memory usage: 484.0+ bytes\n"
     ]
    }
   ],
   "source": [
    "df_dict_cleaned[\"Matematik\"].info()\n",
    "#object is a datatype that can be any kind of data - its very flexible\n",
    "# it can hold numbers, strings, lists, dictionaries, etc"
   ]
  },
  {
   "cell_type": "code",
   "execution_count": 188,
   "metadata": {},
   "outputs": [
    {
     "data": {
      "text/plain": [
       "0    106766\n",
       "1     84163\n",
       "2     22553\n",
       "3        50\n",
       "Name: Totalt (A-F), dtype: int64"
      ]
     },
     "execution_count": 188,
     "metadata": {},
     "output_type": "execute_result"
    }
   ],
   "source": [
    "df_dict_cleaned[\"Matematik\"][\"Totalt (A-F)\"]"
   ]
  },
  {
   "cell_type": "markdown",
   "metadata": {},
   "source": [
    "**Kolla statestik med describe() & transpose()**"
   ]
  },
  {
   "cell_type": "code",
   "execution_count": 199,
   "metadata": {},
   "outputs": [
    {
     "data": {
      "text/html": [
       "<div>\n",
       "<style scoped>\n",
       "    .dataframe tbody tr th:only-of-type {\n",
       "        vertical-align: middle;\n",
       "    }\n",
       "\n",
       "    .dataframe tbody tr th {\n",
       "        vertical-align: top;\n",
       "    }\n",
       "\n",
       "    .dataframe thead th {\n",
       "        text-align: right;\n",
       "    }\n",
       "</style>\n",
       "<table border=\"1\" class=\"dataframe\">\n",
       "  <thead>\n",
       "    <tr style=\"text-align: right;\">\n",
       "      <th></th>\n",
       "      <th>count</th>\n",
       "      <th>mean</th>\n",
       "      <th>std</th>\n",
       "      <th>min</th>\n",
       "      <th>25%</th>\n",
       "      <th>50%</th>\n",
       "      <th>75%</th>\n",
       "      <th>max</th>\n",
       "    </tr>\n",
       "  </thead>\n",
       "  <tbody>\n",
       "    <tr>\n",
       "      <th>Totalt (A-F)</th>\n",
       "      <td>4.0</td>\n",
       "      <td>53383.000</td>\n",
       "      <td>50305.900509</td>\n",
       "      <td>50.0</td>\n",
       "      <td>16927.250</td>\n",
       "      <td>53358.00</td>\n",
       "      <td>89813.750</td>\n",
       "      <td>106766.0</td>\n",
       "    </tr>\n",
       "    <tr>\n",
       "      <th>Flickor (A-F)</th>\n",
       "      <td>4.0</td>\n",
       "      <td>25774.000</td>\n",
       "      <td>24187.203159</td>\n",
       "      <td>25.0</td>\n",
       "      <td>8359.000</td>\n",
       "      <td>25761.50</td>\n",
       "      <td>43176.500</td>\n",
       "      <td>51548.0</td>\n",
       "    </tr>\n",
       "    <tr>\n",
       "      <th>Pojkar (A-F)</th>\n",
       "      <td>4.0</td>\n",
       "      <td>27609.000</td>\n",
       "      <td>26119.924770</td>\n",
       "      <td>25.0</td>\n",
       "      <td>8568.250</td>\n",
       "      <td>27596.50</td>\n",
       "      <td>46637.250</td>\n",
       "      <td>55218.0</td>\n",
       "    </tr>\n",
       "    <tr>\n",
       "      <th>Totalt A-E</th>\n",
       "      <td>4.0</td>\n",
       "      <td>12.650</td>\n",
       "      <td>1.138713</td>\n",
       "      <td>11.6</td>\n",
       "      <td>11.825</td>\n",
       "      <td>12.45</td>\n",
       "      <td>13.275</td>\n",
       "      <td>14.1</td>\n",
       "    </tr>\n",
       "    <tr>\n",
       "      <th>Flickor A-E</th>\n",
       "      <td>4.0</td>\n",
       "      <td>12.400</td>\n",
       "      <td>0.920145</td>\n",
       "      <td>11.5</td>\n",
       "      <td>11.725</td>\n",
       "      <td>12.30</td>\n",
       "      <td>12.975</td>\n",
       "      <td>13.5</td>\n",
       "    </tr>\n",
       "    <tr>\n",
       "      <th>Pojkar A-E</th>\n",
       "      <td>4.0</td>\n",
       "      <td>12.875</td>\n",
       "      <td>1.357387</td>\n",
       "      <td>11.7</td>\n",
       "      <td>11.925</td>\n",
       "      <td>12.55</td>\n",
       "      <td>13.500</td>\n",
       "      <td>14.7</td>\n",
       "    </tr>\n",
       "  </tbody>\n",
       "</table>\n",
       "</div>"
      ],
      "text/plain": [
       "               count       mean           std   min        25%       50%  \\\n",
       "Totalt (A-F)     4.0  53383.000  50305.900509  50.0  16927.250  53358.00   \n",
       "Flickor (A-F)    4.0  25774.000  24187.203159  25.0   8359.000  25761.50   \n",
       "Pojkar (A-F)     4.0  27609.000  26119.924770  25.0   8568.250  27596.50   \n",
       "Totalt A-E       4.0     12.650      1.138713  11.6     11.825     12.45   \n",
       "Flickor A-E      4.0     12.400      0.920145  11.5     11.725     12.30   \n",
       "Pojkar A-E       4.0     12.875      1.357387  11.7     11.925     12.55   \n",
       "\n",
       "                     75%       max  \n",
       "Totalt (A-F)   89813.750  106766.0  \n",
       "Flickor (A-F)  43176.500   51548.0  \n",
       "Pojkar (A-F)   46637.250   55218.0  \n",
       "Totalt A-E        13.275      14.1  \n",
       "Flickor A-E       12.975      13.5  \n",
       "Pojkar A-E        13.500      14.7  "
      ]
     },
     "execution_count": 199,
     "metadata": {},
     "output_type": "execute_result"
    }
   ],
   "source": [
    "df_dict_cleaned[\"Matematik\"].describe().transpose()\n"
   ]
  },
  {
   "cell_type": "code",
   "execution_count": 196,
   "metadata": {},
   "outputs": [
    {
     "data": {
      "text/html": [
       "<div>\n",
       "<style scoped>\n",
       "    .dataframe tbody tr th:only-of-type {\n",
       "        vertical-align: middle;\n",
       "    }\n",
       "\n",
       "    .dataframe tbody tr th {\n",
       "        vertical-align: top;\n",
       "    }\n",
       "\n",
       "    .dataframe thead th {\n",
       "        text-align: right;\n",
       "    }\n",
       "</style>\n",
       "<table border=\"1\" class=\"dataframe\">\n",
       "  <thead>\n",
       "    <tr style=\"text-align: right;\">\n",
       "      <th></th>\n",
       "      <th>Huvudman</th>\n",
       "      <th>Totalt poäng</th>\n",
       "    </tr>\n",
       "  </thead>\n",
       "  <tbody>\n",
       "    <tr>\n",
       "      <th>0</th>\n",
       "      <td>Samtliga</td>\n",
       "      <td>89.1</td>\n",
       "    </tr>\n",
       "    <tr>\n",
       "      <th>1</th>\n",
       "      <td>Kommunal</td>\n",
       "      <td>88.1</td>\n",
       "    </tr>\n",
       "    <tr>\n",
       "      <th>2</th>\n",
       "      <td>Enskild</td>\n",
       "      <td>92.9</td>\n",
       "    </tr>\n",
       "    <tr>\n",
       "      <th>3</th>\n",
       "      <td>Skolverket</td>\n",
       "      <td>~100</td>\n",
       "    </tr>\n",
       "  </tbody>\n",
       "</table>\n",
       "</div>"
      ],
      "text/plain": [
       "     Huvudman Totalt poäng\n",
       "0    Samtliga         89.1\n",
       "1    Kommunal         88.1\n",
       "2     Enskild         92.9\n",
       "3  Skolverket         ~100"
      ]
     },
     "execution_count": 196,
     "metadata": {},
     "output_type": "execute_result"
    }
   ],
   "source": [
    "df_dict_cleaned[\"Matematik\"].columns #visar namn på columner \n",
    "df_dict_cleaned[\"Matematik\"][[\"Huvudman\", \"Totalt poäng\"]] #går in i sheet matematik och visar columner _ och _\n"
   ]
  },
  {
   "cell_type": "markdown",
   "metadata": {},
   "source": [
    "### d) amount of students that got F in math"
   ]
  },
  {
   "cell_type": "markdown",
   "metadata": {},
   "source": [
    "**DuckDB**"
   ]
  },
  {
   "cell_type": "code",
   "execution_count": null,
   "metadata": {},
   "outputs": [],
   "source": [
    "# Totalt (A-F) - All students in Huvudman\n",
    "# Totalt (A-E) - All students that have passed\n",
    "\n",
    "#Pick Huvudman Samtliga\n",
    "df_math = df_dict_cleaned[\"Matematik\"]\n",
    "df_math"
   ]
  },
  {
   "cell_type": "code",
   "execution_count": 228,
   "metadata": {},
   "outputs": [
    {
     "data": {
      "text/plain": [
       "np.int64(106766)"
      ]
     },
     "execution_count": 228,
     "metadata": {},
     "output_type": "execute_result"
    }
   ],
   "source": [
    "import duckdb\n",
    "\n",
    "total_students = duckdb.query(\n",
    "    \"\"\"\n",
    "    SELECT \"Totalt (A-F)\"\n",
    "    FROM df_math\n",
    "    WHERE huvudman = 'Samtliga'\n",
    "\"\"\"\n",
    ").df().values[0][0]\n",
    "\n",
    "total_students"
   ]
  },
  {
   "cell_type": "markdown",
   "metadata": {},
   "source": [
    "**Pandas**"
   ]
  },
  {
   "cell_type": "code",
   "execution_count": 226,
   "metadata": {},
   "outputs": [
    {
     "name": "stdout",
     "output_type": "stream",
     "text": [
      "<class 'pandas.core.frame.DataFrame'>\n",
      "RangeIndex: 4 entries, 0 to 3\n",
      "Data columns (total 11 columns):\n",
      " #   Column         Non-Null Count  Dtype  \n",
      "---  ------         --------------  -----  \n",
      " 0   Plats          4 non-null      object \n",
      " 1   Huvudman       4 non-null      object \n",
      " 2   Totalt (A-F)   4 non-null      int64  \n",
      " 3   Flickor (A-F)  4 non-null      int64  \n",
      " 4   Pojkar (A-F)   4 non-null      int64  \n",
      " 5   Totalt poäng   4 non-null      object \n",
      " 6   Flickor poäng  4 non-null      object \n",
      " 7   Pojkar poäng   4 non-null      object \n",
      " 8   Totalt A-E     4 non-null      float64\n",
      " 9   Flickor A-E    4 non-null      float64\n",
      " 10  Pojkar A-E     4 non-null      float64\n",
      "dtypes: float64(3), int64(3), object(5)\n",
      "memory usage: 484.0+ bytes\n"
     ]
    }
   ],
   "source": [
    "df_math.info()"
   ]
  },
  {
   "cell_type": "code",
   "execution_count": null,
   "metadata": {},
   "outputs": [],
   "source": [
    "students_passed = df_math.query(\"Huvudman == 'Samtliga'\")[\"Totalt (A-E)\"]*.01*total_students\n",
    "students_passed"
   ]
  },
  {
   "cell_type": "markdown",
   "metadata": {},
   "source": [
    "### e) bar chart on total points for each subject"
   ]
  },
  {
   "cell_type": "code",
   "execution_count": 249,
   "metadata": {},
   "outputs": [
    {
     "data": {
      "text/plain": [
       "np.float64(97.0)"
      ]
     },
     "execution_count": 249,
     "metadata": {},
     "output_type": "execute_result"
    }
   ],
   "source": [
    "#matplotlib // barplotting // x = keys, height = points\n",
    "total_points = {}\n",
    "\n",
    "df_dict_cleaned[\"Engelska\"].query(\"Huvudman == 'Samtliga'\")[\"Totalt poäng\"][0]\n"
   ]
  },
  {
   "cell_type": "code",
   "execution_count": null,
   "metadata": {},
   "outputs": [
    {
     "ename": "",
     "evalue": "",
     "output_type": "error",
     "traceback": [
      "\u001b[1;31mThe Kernel crashed while executing code in the current cell or a previous cell. \n",
      "\u001b[1;31mPlease review the code in the cell(s) to identify a possible cause of the failure. \n",
      "\u001b[1;31mClick <a href='https://aka.ms/vscodeJupyterKernelCrash'>here</a> for more info. \n",
      "\u001b[1;31mView Jupyter <a href='command:jupyter.viewOutput'>log</a> for further details."
     ]
    }
   ],
   "source": [
    "for subject in subjects:\n",
    "    total_points[subject] = df_dict_cleaned[subject].query(\"Huvudman == 'Samtliga'\")[\n",
    "        \"Totalt poäng\"][0]\n",
    "\n",
    "total_points"
   ]
  },
  {
   "cell_type": "code",
   "execution_count": null,
   "metadata": {},
   "outputs": [
    {
     "name": "stdout",
     "output_type": "stream",
     "text": [
      "['Engelska', 'Matematik', 'Svenska', 'SvA']\n"
     ]
    },
    {
     "data": {
      "image/png": "[encoded data removed]",
      "text/plain": [
       "<Figure size 640x480 with 1 Axes>"
      ]
     },
     "metadata": {},
     "output_type": "display_data"
    }
   ],
   "source": [
    "import matplotlib.pyplot as plt\n",
    "\n",
    "fig, ax = plt.subplots(1)\n",
    "\n",
    "ax.bar(x = total_points.keys(), height=total_points.values())\n",
    "ax.set(\n",
    "    xlabel=\"Ämne\", \n",
    "    ylabel=\"Genomsnitt betyg\", \n",
    "    title=\"Genomsnitt poäng för olika ämnen på nationella prov\"\n",
    ")\n",
    "\n",
    "subjects[-1] = \"SvA\"\n",
    "print(subjects)\n",
    "ax.set_xticks(labels=subjects, ticks=range(len(subjects)));"
   ]
  }
 ],
 "metadata": {
  "kernelspec": {
   "display_name": ".venv",
   "language": "python",
   "name": "python3"
  },
  "language_info": {
   "codemirror_mode": {
    "name": "ipython",
    "version": 3
   },
   "file_extension": ".py",
   "mimetype": "text/x-python",
   "name": "python",
   "nbconvert_exporter": "python",
   "pygments_lexer": "ipython3",
   "version": "3.12.5"
  }
 },
 "nbformat": 4,
 "nbformat_minor": 2
}
