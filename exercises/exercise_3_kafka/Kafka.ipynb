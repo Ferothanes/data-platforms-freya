{
 "cells": [
  {
   "cell_type": "markdown",
   "metadata": {},
   "source": [
    "## 1. Explore orders data\n",
    "    Use the dataset orders.json, which simulates a few orders from an electronic shop."
   ]
  },
  {
   "cell_type": "markdown",
   "metadata": {},
   "source": [
    "### a) Load & Process Orders from JSON with Pandas"
   ]
  },
  {
   "cell_type": "code",
   "execution_count": 28,
   "metadata": {},
   "outputs": [],
   "source": [
    "import json\n",
    "import pandas as pd\n",
    "\n",
    "# Load the orders.json file\n",
    "with open('data/orders.json', 'r') as file:\n",
    "    orders_data = json.load(file)\n"
   ]
  },
  {
   "cell_type": "markdown",
   "metadata": {},
   "source": [
    "---\n",
    "**1. Inspect the Structure of an Order (Column Titles) To check what fields (keys) are in each order, run:**\n"
   ]
  },
  {
   "cell_type": "code",
   "execution_count": 33,
   "metadata": {},
   "outputs": [
    {
     "name": "stdout",
     "output_type": "stream",
     "text": [
      "Keys in an order: dict_keys(['order_id', 'customer', 'products', 'order_date', 'status'])\n"
     ]
    }
   ],
   "source": [
    "print(\"Keys in an order:\", orders_data[0].keys())"
   ]
  },
  {
   "cell_type": "markdown",
   "metadata": {},
   "source": [
    "### PROCESSING: The structure of the data might look something like this:\n",
    "\n",
    "**This is the structure of each order, and you need to understand the relationships between each part:**\n",
    "\n",
    "- **order_id:** Unique identifier for the order\n",
    "- **customer:** Name of the customer\n",
    "- **products:** List of products in that order (with name, price, and quantity)\n",
    "- **order_date:** Date the order was placed\n",
    "- **status:** Current status of the order"
   ]
  },
  {
   "cell_type": "markdown",
   "metadata": {},
   "source": [
    "**2. Check the Number of Orders**"
   ]
  },
  {
   "cell_type": "code",
   "execution_count": 48,
   "metadata": {},
   "outputs": [
    {
     "name": "stdout",
     "output_type": "stream",
     "text": [
      "Total orders in dataset: (len(orders_data))\n"
     ]
    }
   ],
   "source": [
    "print(f\"Total orders in dataset: {len(orders_data)}\")"
   ]
  },
  {
   "cell_type": "markdown",
   "metadata": {},
   "source": [
    "**3. View the Full Structure of an Order**"
   ]
  },
  {
   "cell_type": "code",
   "execution_count": 44,
   "metadata": {},
   "outputs": [
    {
     "name": "stdout",
     "output_type": "stream",
     "text": [
      "{\n",
      "    \"order_id\": \"ORD-1001\",\n",
      "    \"customer\": \"John Doe\",\n",
      "    \"products\": [\n",
      "        {\n",
      "            \"name\": \"Laptop\",\n",
      "            \"price\": 999.99,\n",
      "            \"quantity\": 1\n",
      "        },\n",
      "        {\n",
      "            \"name\": \"Mouse\",\n",
      "            \"price\": 19.99,\n",
      "            \"quantity\": 1\n",
      "        }\n",
      "    ],\n",
      "    \"order_date\": \"2024-01-25\",\n",
      "    \"status\": \"Shipped\"\n",
      "}\n"
     ]
    }
   ],
   "source": [
    "# Pretty print the first order to understand its structure\n",
    "print(json.dumps(orders_data[0], indent = 4))\n",
    "\n",
    "#\"order_ID\" can track what a customer has done"
   ]
  },
  {
   "cell_type": "markdown",
   "metadata": {},
   "source": [
    "**4. Inspect the Products in an Order**"
   ]
  },
  {
   "cell_type": "code",
   "execution_count": 24,
   "metadata": {},
   "outputs": [
    {
     "name": "stdout",
     "output_type": "stream",
     "text": [
      "First order's products: [{'name': 'Laptop', 'price': 999.99, 'quantity': 1}, {'name': 'Mouse', 'price': 19.99, 'quantity': 1}]\n"
     ]
    }
   ],
   "source": [
    "print(\"First order's products:\", orders_data[0][\"products\"])"
   ]
  },
  {
   "cell_type": "markdown",
   "metadata": {},
   "source": [
    "**5. Print All Unique Order Statuses (Optional)**"
   ]
  },
  {
   "cell_type": "code",
   "execution_count": 25,
   "metadata": {},
   "outputs": [
    {
     "name": "stdout",
     "output_type": "stream",
     "text": [
      "Unique order statuses: {'Processing', 'Delivered', 'Shipped', 'Cancelled'}\n"
     ]
    }
   ],
   "source": [
    "order_statuses = set(order[\"status\"] for order in orders_data)\n",
    "print(\"Unique order statuses:\", order_statuses)"
   ]
  },
  {
   "cell_type": "markdown",
   "metadata": {},
   "source": [
    "---\n",
    "### b) Use python and perhaps pandas to print out each order with the product, quantity, price and total price. One order could have the following output"
   ]
  },
  {
   "cell_type": "code",
   "execution_count": 26,
   "metadata": {},
   "outputs": [
    {
     "name": "stdout",
     "output_type": "stream",
     "text": [
      "Order ID: ORD-1001\n",
      "Customer: John Doe\n",
      "Product: Laptop               Quantity: 1          Price:   999.99\n",
      "Product: Mouse                Quantity: 1          Price:    19.99\n",
      "Total price:  1019.98\n",
      "--------------------------------------------------\n",
      "Order ID: ORD-1002\n",
      "Customer: Jane Smith\n",
      "Product: Smartphone           Quantity: 1          Price:   699.99\n",
      "Product: Charger              Quantity: 2          Price:    29.99\n",
      "Total price:   759.97\n",
      "--------------------------------------------------\n",
      "Order ID: ORD-1003\n",
      "Customer: Alice Johnson\n",
      "Product: Tablet               Quantity: 1          Price:   499.99\n",
      "Total price:   499.99\n",
      "--------------------------------------------------\n",
      "Order ID: ORD-1004\n",
      "Customer: Bob Brown\n",
      "Product: Headphones           Quantity: 1          Price:   199.99\n",
      "Product: Microphone           Quantity: 1          Price:    79.99\n",
      "Total price:   279.98\n",
      "--------------------------------------------------\n",
      "Order ID: ORD-1005\n",
      "Customer: Charlie Davis\n",
      "Product: Monitor              Quantity: 2          Price:   299.99\n",
      "Total price:   599.98\n",
      "--------------------------------------------------\n",
      "Order ID: ORD-1006\n",
      "Customer: Eve White\n",
      "Product: Gaming Keyboard      Quantity: 1          Price:   129.99\n",
      "Product: Gaming Mouse         Quantity: 1          Price:    89.99\n",
      "Total price:   219.98\n",
      "--------------------------------------------------\n",
      "Order ID: ORD-1007\n",
      "Customer: Daniel Wilson\n",
      "Product: External Hard Drive  Quantity: 1          Price:   150.00\n",
      "Total price:   150.00\n",
      "--------------------------------------------------\n",
      "Order ID: ORD-1008\n",
      "Customer: Fiona Black\n",
      "Product: Wireless Speaker     Quantity: 1          Price:   129.99\n",
      "Total price:   129.99\n",
      "--------------------------------------------------\n",
      "Order ID: ORD-1009\n",
      "Customer: George Clark\n",
      "Product: Smartwatch           Quantity: 1          Price:   199.99\n",
      "Product: USB-C Cable          Quantity: 2          Price:    14.99\n",
      "Product: Iphone 15            Quantity: 1          Price:   600.99\n",
      "Total price:   830.96\n",
      "--------------------------------------------------\n",
      "Order ID: ORD-1010\n",
      "Customer: Hannah Green\n",
      "Product: Desktop Computer     Quantity: 1          Price:  1200.00\n",
      "Product: Monitor              Quantity: 1          Price:   200.00\n",
      "Product: MX keys              Quantity: 1          Price:    99.99\n",
      "Total price:  1499.99\n",
      "--------------------------------------------------\n"
     ]
    }
   ],
   "source": [
    "# Iterate through each order in the dataset\n",
    "for order in orders_data:\n",
    "    print(f\"Order ID: {order['order_id']}\")\n",
    "    print(f\"Customer: {order['customer']}\")\n",
    "    total_price = 0\n",
    "    for product in order['products']:\n",
    "        product_name = product['name']\n",
    "        product_quantity = product['quantity']\n",
    "        product_price = product['price']\n",
    "        total_price += product_quantity * product_price\n",
    "        print(f\"Product: {product_name:<20} Quantity: {product_quantity:<10} Price: {product_price:>8.2f}\")\n",
    "    \n",
    "    print(f\"Total price: {total_price:>8.2f}\")\n",
    "    print('-' * 50)"
   ]
  },
  {
   "cell_type": "markdown",
   "metadata": {},
   "source": [
    "## 2. Stream the orders data into Kafka\n",
    "    Now do similar outputs as in exercise 1 but using a producer to produce the data to a topic in Kafka and then consuming the data. In the consumer, you will process the data to print out similar to above."
   ]
  },
  {
   "cell_type": "markdown",
   "metadata": {},
   "source": [
    "### a) Create Kafka Producer (Send Orders Data)"
   ]
  },
  {
   "cell_type": "code",
   "execution_count": null,
   "metadata": {},
   "outputs": [
    {
     "name": "stdout",
     "output_type": "stream",
     "text": [
      "c:\\Users\\Freja\\Desktop\\DE2024.github\\data-platforms-freya\\.venv\\Scripts\\python.exe\n"
     ]
    }
   ],
   "source": [
    "import sys\n",
    "print(sys.executable)"
   ]
  }
 ],
 "metadata": {
  "kernelspec": {
   "display_name": ".venv",
   "language": "python",
   "name": "python3"
  },
  "language_info": {
   "codemirror_mode": {
    "name": "ipython",
    "version": 3
   },
   "file_extension": ".py",
   "mimetype": "text/x-python",
   "name": "python",
   "nbconvert_exporter": "python",
   "pygments_lexer": "ipython3",
   "version": "3.12.5"
  }
 },
 "nbformat": 4,
 "nbformat_minor": 2
}
