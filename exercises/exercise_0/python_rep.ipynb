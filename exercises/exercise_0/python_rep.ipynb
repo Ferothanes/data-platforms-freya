{
 "cells": [
  {
   "cell_type": "markdown",
   "metadata": {},
   "source": [
    "# Python repetition"
   ]
  },
  {
   "cell_type": "markdown",
   "metadata": {},
   "source": [
    "## 0. user input for ETL parameters\n",
    "---"
   ]
  },
  {
   "cell_type": "code",
   "execution_count": null,
   "metadata": {},
   "outputs": [],
   "source": [
    "source_path = input(\"Enter the source path\")\n",
    "destination_path = input(\"Enter youur destination path\")\n",
    "\n",
    "# /c/Users/Freja/Desktop/DE2024.github/data-platforms-freya/exercises/input_data.csv\n",
    "# /c/Users/Freja/Desktop/DE2024.github/data-platforms-freya/exercises/output_data.csv\n",
    "\n",
    "print(f\"source: {source_path}\")\n",
    "print(f\"destination_path: {destination_path}\")\n",
    "\n"
   ]
  },
  {
   "cell_type": "markdown",
   "metadata": {},
   "source": [
    "## 1. schema validation\n",
    "---\n",
    "In order to maintain data quality, consistency and reliability, a system needs to validate that it conforms to certain predefined structure or format. This is called schema validation and you'll practice this in the following exercises. te.x är det ett schema? vilken datatyp ect"
   ]
  },
  {
   "cell_type": "markdown",
   "metadata": {},
   "source": [
    "**a) Create a dictonary**"
   ]
  },
  {
   "cell_type": "markdown",
   "metadata": {},
   "source": [
    "- Using dict(): Cleaner and more concise when the keys are valid Python identifiers. However, it's not suitable for keys that aren't strings or aren't valid variable names.\n",
    "\n",
    "- Using {}: Useful when keys are not valid identifiers (e.g., contain spaces, special characters, or start with a number)."
   ]
  },
  {
   "cell_type": "code",
   "execution_count": 4,
   "metadata": {},
   "outputs": [
    {
     "data": {
      "text/plain": [
       "({'id': 101, 'name': 'Erika', 'is_active': True, 'age': 45}, dict)"
      ]
     },
     "execution_count": 4,
     "metadata": {},
     "output_type": "execute_result"
    }
   ],
   "source": [
    "record =dict(id=101, name= \"Erika\", is_active=True, age=45)\n",
    "record"
   ]
  },
  {
   "cell_type": "code",
   "execution_count": 5,
   "metadata": {},
   "outputs": [
    {
     "name": "stdout",
     "output_type": "stream",
     "text": [
      "{'id': 101, 'name': 'Erika', 'is_active': True, 'age': 45}\n"
     ]
    }
   ],
   "source": [
    "person = {\n",
    "    \"id\": 101,\n",
    "    \"name\": \"Erika\",\n",
    "    \"is_active\": True,\n",
    "    \"age\": 45\n",
    "}\n",
    "\n",
    "print(person)"
   ]
  },
  {
   "cell_type": "markdown",
   "metadata": {},
   "source": [
    "---\n",
    "b) - Validate that the id is integer, name is string, is_active is boolean and age is integer. It should return true if valid and false if not valid."
   ]
  },
  {
   "cell_type": "code",
   "execution_count": 11,
   "metadata": {},
   "outputs": [
    {
     "data": {
      "text/plain": [
       "dict_keys(['id', 'name', 'is_active', 'age'])"
      ]
     },
     "execution_count": 11,
     "metadata": {},
     "output_type": "execute_result"
    }
   ],
   "source": [
    "schema = {\"id\": int, \"name\":str, \"is_active\": bool, \"age\": int}\n",
    "schema.keys()"
   ]
  },
  {
   "cell_type": "code",
   "execution_count": 12,
   "metadata": {},
   "outputs": [
    {
     "data": {
      "text/plain": [
       "(101, int, True, bool)"
      ]
     },
     "execution_count": 12,
     "metadata": {},
     "output_type": "execute_result"
    }
   ],
   "source": [
    "record[\"id\"], schema[\"id\"], record[\"is_active\"], schema[\"is_active\"]"
   ]
  },
  {
   "cell_type": "code",
   "execution_count": 13,
   "metadata": {},
   "outputs": [
    {
     "data": {
      "text/plain": [
       "(True, False)"
      ]
     },
     "execution_count": 13,
     "metadata": {},
     "output_type": "execute_result"
    }
   ],
   "source": [
    "type(record[\"id\"]) == schema[\"id\"], type(record[\"id\"]) == schema[\"is_active\"]"
   ]
  },
  {
   "cell_type": "code",
   "execution_count": 25,
   "metadata": {},
   "outputs": [
    {
     "data": {
      "text/plain": [
       "(True, True, False, True)"
      ]
     },
     "execution_count": 25,
     "metadata": {},
     "output_type": "execute_result"
    }
   ],
   "source": [
    "#typchecka, om något är en instant av något annat\n",
    "isinstance(5, int), isinstance(\"hej\", str), isinstance(True, str), isinstance(False, bool)"
   ]
  },
  {
   "cell_type": "code",
   "execution_count": 26,
   "metadata": {},
   "outputs": [
    {
     "data": {
      "text/plain": [
       "['id', 'name', 'is_active', 'age']"
      ]
     },
     "execution_count": 26,
     "metadata": {},
     "output_type": "execute_result"
    }
   ],
   "source": [
    "[key for key in schema]"
   ]
  },
  {
   "cell_type": "code",
   "execution_count": 30,
   "metadata": {},
   "outputs": [
    {
     "name": "stdout",
     "output_type": "stream",
     "text": [
      "101 <class 'int'>\n",
      "True\n",
      "Erika <class 'str'>\n",
      "True\n",
      "True <class 'bool'>\n",
      "True\n",
      "45 <class 'int'>\n",
      "True\n"
     ]
    }
   ],
   "source": [
    "for key, data_type in schema.items():  \n",
    "    # Iterates over the dictionary `schema`, unpacking keys and values.\n",
    "    # `key` is the dictionary key, and `data_type` is the value (expected type).\n",
    "\n",
    "    print(record[key], data_type)  \n",
    "    # Prints the value in the `record` dictionary for the current `key`\n",
    "    # and the expected data type from `schema`.\n",
    "\n",
    "    print(isinstance(record[key], data_type))  \n",
    "    # Checks if the value in `record[key]` matches the expected `data_type`.\n",
    "    # Prints `True` if the type matches, otherwise `False`.\n",
    "\n"
   ]
  },
  {
   "cell_type": "code",
   "execution_count": null,
   "metadata": {},
   "outputs": [],
   "source": [
    "validation_list = []\n",
    "for key, data_type in schema.items():  # Iterates over schema's keys and expected type. #items unpackar key och value\n",
    "    # print(record[key], data_type)  # (Optional) Show the value and type\n",
    "    print(isinstance(record[key], data_type))  # Checks if the value matches the expected type\n",
    "\n",
    "    ##Output True, True, True, True"
   ]
  },
  {
   "cell_type": "code",
   "execution_count": 37,
   "metadata": {},
   "outputs": [
    {
     "data": {
      "text/plain": [
       "(False, True)"
      ]
     },
     "execution_count": 37,
     "metadata": {},
     "output_type": "execute_result"
    }
   ],
   "source": [
    "#kollar alla värden, om en är false kommer output bli false\n",
    "all([True, False, True]) # all = AND\n",
    "all([True, False, True]), any([True, False]) # any = OR\n"
   ]
  },
  {
   "cell_type": "code",
   "execution_count": 38,
   "metadata": {},
   "outputs": [
    {
     "data": {
      "text/plain": [
       "True"
      ]
     },
     "execution_count": 38,
     "metadata": {},
     "output_type": "execute_result"
    }
   ],
   "source": [
    "#solution with FOR-statement\n",
    "validation_list = []\n",
    "for key, data_type in schema.items(): \n",
    "    validation_list.append(isinstance(record[key], data_type))\n",
    "\n",
    "all(validation_list)"
   ]
  },
  {
   "cell_type": "code",
   "execution_count": 39,
   "metadata": {},
   "outputs": [
    {
     "data": {
      "text/plain": [
       "True"
      ]
     },
     "execution_count": 39,
     "metadata": {},
     "output_type": "execute_result"
    }
   ],
   "source": [
    "#alternative with list comprehension\n",
    "all([isinstance(record[key], data_type) for key, data_type in schema.items()])"
   ]
  },
  {
   "cell_type": "markdown",
   "metadata": {},
   "source": [
    "**c) The dictionary created can be seen as one row, now lets create more records and store each record (dictionary) in a list.**"
   ]
  },
  {
   "cell_type": "code",
   "execution_count": 40,
   "metadata": {},
   "outputs": [
    {
     "name": "stdout",
     "output_type": "stream",
     "text": [
      "[{'id': 102, 'name': 'Marcus', 'is_active': True, 'age': 34}, {'id': 103, 'name': 'David', 'is_active': False, 'age': 29}, {'id': 104, 'name': 'Anna', 'is_active': True, 'age': 41.5}, {'id': 106, 'name': 'Ingrid', 'is_active': 'NOPE', 'age': 8}]\n"
     ]
    }
   ],
   "source": [
    "records = [\n",
    "    {\"id\": 102, \"name\": \"Marcus\", \"is_active\": True, \"age\": 34},\n",
    "    {\"id\": 103, \"name\": \"David\", \"is_active\": False, \"age\": 29},\n",
    "    {\"id\": 104, \"name\": \"Anna\", \"is_active\": True, \"age\": 41.5},\n",
    "    {\"id\": 106, \"name\": \"Ingrid\", \"is_active\": \"NOPE\", \"age\": 8},\n",
    "]\n",
    "\n",
    "print(records)\n"
   ]
  },
  {
   "cell_type": "markdown",
   "metadata": {},
   "source": [
    "**d) Do schema validation on the JSON array in c)**"
   ]
  },
  {
   "cell_type": "code",
   "execution_count": 42,
   "metadata": {},
   "outputs": [
    {
     "name": "stdout",
     "output_type": "stream",
     "text": [
      "Record 2: 'age' is invalid\n",
      "Record 3: 'is_active' is invalid\n"
     ]
    }
   ],
   "source": [
    "# Perform validation\n",
    "for i, record in enumerate(records):\n",
    "    for key, expected_type in schema.items():\n",
    "        if not isinstance(record.get(key), expected_type):\n",
    "            print(f\"Record {i}: '{key}' is invalid\")\n",
    "\n",
    "# Checks for missing keys using .get().\n",
    "# Validates types by comparing with the schema.\n",
    "# Only prints invalid fields for brevity."
   ]
  },
  {
   "cell_type": "markdown",
   "metadata": {},
   "source": [
    "**e) Make a function for schema validation and try input the two examples and see if you get correct answer.**"
   ]
  },
  {
   "cell_type": "markdown",
   "metadata": {},
   "source": [
    "---\n",
    "## 2.Data quality check \n",
    "\n",
    "- Create a function that checks a list that it contains exactly ten elements, and none of them contains None. If they contain None, print out an error message that says that it is invalid and print out what a valid format should be.\n"
   ]
  },
  {
   "cell_type": "code",
   "execution_count": 58,
   "metadata": {},
   "outputs": [
    {
     "name": "stdout",
     "output_type": "stream",
     "text": [
      "Error: The list contains None.\n",
      "Valid format: The list should not contain None.\n"
     ]
    }
   ],
   "source": [
    "def validate_list(input_list):\n",
    "    if len(input_list) != 10:\n",
    "        print(\"Error: Invalid number of elements.\")\n",
    "        print(\"Valid format: The list must contain exactly 10 elements.\")\n",
    "    elif None in input_list:\n",
    "        print(\"Error: The list contains None.\")\n",
    "        print(\"Valid format: The list should not contain None.\")\n",
    "    else:\n",
    "        print(\"The list is valid.\")\n",
    "\n",
    "# Example usage\n",
    "input_list = [1, 2, 3, 4, 5, 6, 7, 8, 9, None]\n",
    "validate_list(input_list)\n"
   ]
  },
  {
   "cell_type": "code",
   "execution_count": 57,
   "metadata": {},
   "outputs": [
    {
     "name": "stdout",
     "output_type": "stream",
     "text": [
      "\n",
      "            Your list must have 10 elements and not contain None.\n",
      "            Length of your list length was 10. None in list: True\n",
      "                        \n"
     ]
    }
   ],
   "source": [
    "#Kokchuns version\n",
    "def quality_check(list_):\n",
    "    if len(list_) != 10 or None in list_:\n",
    "        raise ValueError(\n",
    "            f\"\"\"\n",
    "            Your list must have 10 elements and not contain None.\n",
    "            Length of your list length was {len(list_)}. None in list: {None in list_}\n",
    "                        \"\"\"\n",
    "        )\n",
    "    print(\"Yous list contians no Nones and have length 10\")\n",
    "try:\n",
    "    quality_check(example_list_none)\n",
    "except ValueError as err:\n",
    "    print(err)"
   ]
  },
  {
   "cell_type": "code",
   "execution_count": 43,
   "metadata": {},
   "outputs": [
    {
     "data": {
      "text/plain": [
       "[0, 1, 2, 3, 4, 5, 6, 7, 8, 9]"
      ]
     },
     "execution_count": 43,
     "metadata": {},
     "output_type": "execute_result"
    }
   ],
   "source": [
    "example_list = list(range(10))\n",
    "example_list_none = list(range(9)) + [None] #kan concatinera listor med +(addera)\n",
    "example_list_large = list(range(200))\n",
    "example_list\n"
   ]
  },
  {
   "cell_type": "code",
   "execution_count": 45,
   "metadata": {},
   "outputs": [
    {
     "data": {
      "text/plain": [
       "[0, 1, 2, 3, 4, 5, 6, 7, 8, None]"
      ]
     },
     "execution_count": 45,
     "metadata": {},
     "output_type": "execute_result"
    }
   ],
   "source": [
    "example_list_none"
   ]
  },
  {
   "cell_type": "code",
   "execution_count": 46,
   "metadata": {},
   "outputs": [
    {
     "data": {
      "text/plain": [
       "True"
      ]
     },
     "execution_count": 46,
     "metadata": {},
     "output_type": "execute_result"
    }
   ],
   "source": [
    "len(example_list) == 10\n"
   ]
  },
  {
   "cell_type": "code",
   "execution_count": 47,
   "metadata": {},
   "outputs": [
    {
     "data": {
      "text/plain": [
       "(False, True)"
      ]
     },
     "execution_count": 47,
     "metadata": {},
     "output_type": "execute_result"
    }
   ],
   "source": [
    "None in example_list, None in example_list_none"
   ]
  },
  {
   "cell_type": "code",
   "execution_count": 59,
   "metadata": {},
   "outputs": [
    {
     "name": "stdout",
     "output_type": "stream",
     "text": [
      "Correct: Example_list\n"
     ]
    }
   ],
   "source": [
    "if len(example_list) == 10 and None not in example_list:\n",
    "    print(\"Correct: Example_list\")\n",
    "\n",
    "if len(example_list_none) == 10 and None not in example_list_none:\n",
    "    print(\"Correct: example_list_none\")\n",
    "\n",
    "if len(example_list_large) == 10 and None not in example_list_large:\n",
    "    print(\"Correct: example_list_large\")"
   ]
  },
  {
   "cell_type": "markdown",
   "metadata": {},
   "source": [
    "## 3. Extract data from logs\n",
    "---\n",
    "In data engineering, log files and log messages are very common. Sometimes you need to parse them to find valuable information, for example for debugging reasons.\n",
    "\n",
    "Read in `network.log` and extract source IP, destination IP, protocol and data size."
   ]
  },
  {
   "cell_type": "code",
   "execution_count": 3,
   "metadata": {},
   "outputs": [
    {
     "data": {
      "text/plain": [
       "['2024-06-01 09:00:00 | Source: 10.0.0.1 | Destination: 10.0.0.2 | Protocol: TCP | Bytes: 1024\\n',\n",
       " '2024-06-01 09:05:00 | Source: 10.0.0.2 | Destination: 10.0.0.3 | Protocol: UDP | Bytes: 2048\\n',\n",
       " '2024-06-01 09:10:00 | Source: 10.0.0.3 | Destination: 10.0.0.1 | Protocol: TCP | Bytes: 512\\n']"
      ]
     },
     "execution_count": 3,
     "metadata": {},
     "output_type": "execute_result"
    }
   ],
   "source": [
    "with open(\"data/network.log\", \"r\") as logs: \n",
    "    logs = logs.readlines()\n",
    "\n",
    "logs"
   ]
  },
  {
   "cell_type": "code",
   "execution_count": 87,
   "metadata": {},
   "outputs": [
    {
     "name": "stdout",
     "output_type": "stream",
     "text": [
      "Data Transfer Summary:\n",
      "TCP: 10752 bytes\n",
      "UDP: 14336 bytes\n"
     ]
    }
   ],
   "source": [
    "for log in logs:\n",
    "    # Split the log string and extract protocol and bytes\n",
    "    parts = log.split(' | ')\n",
    "    protocol = parts[3].split(': ')[1]  # Extract protocol (TCP, UDP, etc.)\n",
    "    byte_count = int(parts[4].split(': ')[1])  # Extract the byte count and convert to integer\n",
    "    \n",
    "    # Add the byte count to the protocol in the network_data dictionary\n",
    "    network_data[protocol] += byte_count\n",
    "\n",
    "# Print the Data Transfer Summary\n",
    "print(\"Data Transfer Summary:\")\n",
    "for protocol, total_bytes in network_data.items():\n",
    "    print(f\"{protocol}: {total_bytes} bytes\")"
   ]
  },
  {
   "cell_type": "markdown",
   "metadata": {},
   "source": [
    "## 4. Aggregating json data"
   ]
  },
  {
   "cell_type": "markdown",
   "metadata": {},
   "source": [
    "**a) Read in the file paid.json inside of the data folder. Hint: use load() function from the json library.**"
   ]
  },
  {
   "cell_type": "code",
   "execution_count": 2,
   "metadata": {},
   "outputs": [
    {
     "data": {
      "text/plain": [
       "[{'name': 'Alice', 'paid': 100},\n",
       " {'name': 'Bob', 'paid': 200},\n",
       " {'name': 'Alice', 'paid': 150},\n",
       " {'name': 'Erik', 'paid': 180},\n",
       " {'name': 'Maja', 'paid': 220}]"
      ]
     },
     "execution_count": 2,
     "metadata": {},
     "output_type": "execute_result"
    }
   ],
   "source": [
    "import json\n",
    "# Opens the paid.json file in read mode (\"r\"), allowing you to work with the file's content inside the with block\n",
    "with open(\"data/paid.json\", \"r\") as file:\n",
    "    # Load the content of the JSON file into the variable json_data\n",
    "    json_data = json.load(file)  # json.load() parses the JSON content into a Python object (usually a list or dictionary)\n",
    "\n",
    "# Access the first 5 items in the json_data list (or first 5 records if it's a list of data)\n",
    "json_data[:5]  # This slices the json_data to get a sublist containing the first 5 items\n"
   ]
  },
  {
   "cell_type": "markdown",
   "metadata": {},
   "source": [
    "**b) Now group each name and sum over the total payment. Hint: use defaultdict(int) from collections library**"
   ]
  },
  {
   "cell_type": "code",
   "execution_count": 96,
   "metadata": {},
   "outputs": [
    {
     "data": {
      "text/plain": [
       "defaultdict(int,\n",
       "            {'Alice': 745,\n",
       "             'Bob': 640,\n",
       "             'Erik': 570,\n",
       "             'Maja': 650,\n",
       "             'Oskar': 300,\n",
       "             'Elsa': 320,\n",
       "             'Liam': 380,\n",
       "             'Astrid': 190,\n",
       "             'Freja': 620,\n",
       "             'Hugo': 250,\n",
       "             'Nils': 130,\n",
       "             'Wilma': 200,\n",
       "             'Alexander': 260,\n",
       "             'Clara': 280,\n",
       "             'Selma': 175,\n",
       "             'Elias': 190})"
      ]
     },
     "execution_count": 96,
     "metadata": {},
     "output_type": "execute_result"
    }
   ],
   "source": [
    "# Import defaultdict from the collections module\n",
    "from collections import defaultdict\n",
    "\n",
    "# Create a defaultdict with a default value of 0 (int) for any new key\n",
    "grouped_data = defaultdict(int)\n",
    "\n",
    "# Loop through each record in the json_data\n",
    "for record in json_data:\n",
    "    # For each record, get the value associated with 'name' and add the 'paid' value to it\n",
    "    grouped_data[record['name']] += record[\"paid\"]\n",
    "\n",
    "# Return the grouped_data dictionary which now contains total 'paid' amounts per 'name'\n",
    "grouped_data\n"
   ]
  },
  {
   "cell_type": "markdown",
   "metadata": {},
   "source": [
    "**c) Output the result into a new json file called payment_sum.json.**"
   ]
  },
  {
   "cell_type": "code",
   "execution_count": null,
   "metadata": {},
   "outputs": [],
   "source": [
    "# Open the file \"data/payment_sum.json\" in write mode (\"w\")\n",
    "with open(\"data/payment_sum.json\", \"w\") as file:\n",
    "    # Write the grouped_data dictionary as JSON to the file\n",
    "    json.dump(grouped_data, file)  # json.dump() converts the Python object (grouped_data) into a JSON string and writes it to the file\n"
   ]
  },
  {
   "cell_type": "markdown",
   "metadata": {},
   "source": [
    "## 5. Simulating data streams\n"
   ]
  },
  {
   "cell_type": "code",
   "execution_count": 103,
   "metadata": {},
   "outputs": [
    {
     "name": "stdout",
     "output_type": "stream",
     "text": [
      "Processed: record1\n",
      "Processed: record2\n",
      "Processed: record3\n",
      "Processed: record4\n",
      "STOP signal encountered. Ending stream processing.\n",
      "Data stream processing completed. Have a nice day\n"
     ]
    }
   ],
   "source": [
    "import time  # Import the 'time' module, which allows us to use the sleep function for delays\n",
    "\n",
    "# Create a simulated stream of data (a list of records and a \"STOP\" signal)\n",
    "simualated_stream = [\"record1\", \"record2\", \"record3\", \"record4\", \"STOP\", \"record5\"]\n",
    "\n",
    "# Loop through each item (called 'chunk') in the simulated stream\n",
    "for chunk in simualated_stream:\n",
    "    # Check if the current chunk is the \"STOP\" signal\n",
    "    if chunk == \"STOP\":\n",
    "        # If the \"STOP\" signal is found, print a message and break out of the loop\n",
    "        print(\"STOP signal encountered. Ending stream processing.\")\n",
    "        break  # Exit the loop early\n",
    "\n",
    "    # If the chunk is not \"STOP\", print the processed record\n",
    "    print(f\"Processed: {chunk}\")\n",
    "    \n",
    "    # Pause for 1 second before processing the next record (simulates time delay in a real data stream)\n",
    "    time.sleep(1)\n",
    "\n",
    "# After the loop finishes (or breaks), print a final message\n",
    "print(\"Data stream processing completed. Have a nice day\")\n"
   ]
  }
 ],
 "metadata": {
  "kernelspec": {
   "display_name": ".venv",
   "language": "python",
   "name": "python3"
  },
  "language_info": {
   "codemirror_mode": {
    "name": "ipython",
    "version": 3
   },
   "file_extension": ".py",
   "mimetype": "text/x-python",
   "name": "python",
   "nbconvert_exporter": "python",
   "pygments_lexer": "ipython3",
   "version": "3.12.5"
  }
 },
 "nbformat": 4,
 "nbformat_minor": 2
}
