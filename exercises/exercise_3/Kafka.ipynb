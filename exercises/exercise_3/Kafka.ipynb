{
 "cells": [
  {
   "cell_type": "markdown",
   "metadata": {},
   "source": [
    "# 1. Explore orders data\n",
    "\n",
    "Use the dataset orders.json, which simulates a few orders from an electronic shop.\n",
    "\n",
    "a) Load the json file, read it in and try to understand the data.\n",
    "\n",
    "b) Use python and perhaps pandas to print out each order with the product, quantity, price and total price. One order could have the following output"
   ]
  },
  {
   "cell_type": "markdown",
   "metadata": {},
   "source": []
  }
 ],
 "metadata": {
  "language_info": {
   "name": "python"
  }
 },
 "nbformat": 4,
 "nbformat_minor": 2
}
