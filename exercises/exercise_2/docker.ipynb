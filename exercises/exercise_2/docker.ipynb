{
 "cells": [
  {
   "cell_type": "markdown",
   "metadata": {},
   "source": [
    "# Exercise_2 Docker\n",
    "### 0. Navigating in docker\n",
    "\n",
    "1. Create and write dockerfile, edit to preference \n",
    "- COPY . . / = COPIES everything from dictionary. Or give exakt file\n",
    "-  \"Using RUN pip install -r requirements.txt\" INSTEAD of \"RUN pip install matplotlib pandas \" /// COPY requirements.txt /app/\n",
    "- CMD python src/os_data.py && tail -f /dev/null = doesnt stop running until stopped\n",
    "- #CMD [\"python\", \"src/os_data.py\"] OR stops running after execution\n",
    "\n",
    "2. Create Python Script (os_data.py). This file will handle the data and use matplotlib and pandas\n",
    "3. Build docker image from - **docker build -t ex0-image .**\n",
    "4. Spin up docker container - **docker run --name ex0-container ex0-image** new name is ex0-container\n",
    "- -d = detached(runs in background) \n",
    "- -it = interactive\n",
    "5. Verify Installed Packages - **docker exec -it ex0-container bash** pip show matplotlib pandas \n"
   ]
  },
  {
   "cell_type": "markdown",
   "metadata": {},
   "source": [
    "---\n",
    "**a) Create a dockerfile with base image Python 3.9 and with the following packages.**\n",
    "\n",
    "- matplotlib\n",
    "- pandas\n",
    "\n",
    "### Creating dockerfile tips:\n",
    "\n",
    "**\"Using RUN pip install -r requirements.txt\"** INSTEAD of **\"RUN pip install matplotlib pandas \"**\n",
    "\n",
    "- Using requirements.txt: Makes it easier to manage dependencies separately from the Dockerfile.\n",
    "- If you need to update packages, you only need to modify requirements.txt, not the Dockerfile.\n",
    "- Using direct pip install: Packages are specified inside the Dockerfile, making updates less flexible.\n",
    "\n",
    "Make sure to use the correct path in the docker file COPY (in this case scr/os_data.py/app/) Also specify the working directory to /app/\n",
    "\n",
    "**View files dockerfile & requirments.txt**"
   ]
  },
  {
   "cell_type": "markdown",
   "metadata": {},
   "source": [
    "---\n",
    "**b) Create a docker image with name ex0-image**\n",
    "\n",
    "In terminal make sure to be on right path, tex where dockerfile is located. \n",
    "\n",
    "**Enter: \"docker build -t ex0-image \"**\n"
   ]
  },
  {
   "cell_type": "markdown",
   "metadata": {},
   "source": [
    "---\n",
    "\n",
    "**c) Spin up your docker container and name it ex0-container.**\n",
    "\n",
    "After successfully building the image (ex0-image), you can create and start a container using:\n",
    "\n",
    "**docker run -it --name ex0-container ex0-image**\n",
    "\n",
    "- --name ex0-container → Names the running container ex0-container.\n",
    "- ex0-image → Runs the container from the image you built.\n",
    "\n",
    "To run the container in the background, use the -d flag:\n",
    "    **docker run -d --name ex0-container ex0-image**\n",
    "\n",
    "- Run container: **docker start ex0-container**\n",
    "- View all containers (running + stopped): **docker ps -a**\n",
    "- View only running containers: **docker ps**"
   ]
  },
  {
   "cell_type": "markdown",
   "metadata": {},
   "source": [
    "---\n",
    "**d) Access the Container and Verify Installed Packages**\n",
    "\n",
    "Open an interactive shell inside the running container:\n",
    "\n",
    "- **docker exec -it ex0-container /bin/sh**\n",
    "\n",
    "or (if Bash is available in your image):\n",
    "- **docker exec -it ex0-container /bin/bash**\n",
    "\n",
    "pip show matplotlib pandas\n",
    "python --version"
   ]
  }
 ],
 "metadata": {
  "language_info": {
   "name": "python"
  }
 },
 "nbformat": 4,
 "nbformat_minor": 2
}
