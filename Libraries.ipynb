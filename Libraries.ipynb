{
 "cells": [
  {
   "cell_type": "markdown",
   "metadata": {},
   "source": [
    "### pandas\n",
    "\n",
    "high-level library for data manipulation and analysis in Python. It provides efficient and easy-to-use data structures like DataFrame and Series that are designed to handle and process large datasets with ease. It is particularly useful for working with structured data (i.e., data that is organized in tables, spreadsheets, or databases).\n",
    "\n",
    "1. Data Structures: Series (1D) and DataFrame (2D) for handling structured data.\n",
    "2. Data Manipulation: Indexing, selection, filtering, and sorting data.\n",
    "3. Handling Missing Data: Functions like isna(), dropna(), and fillna().\n",
    "4. Grouping and Aggregation: Using groupby() to group data and perform aggregation.\n",
    "5. Merging and Joining: Merging datasets with merge() and concatenating with concat().\n",
    "6. Time Series: Handling time-based data with built-in date/time functionality.\n",
    "7. Reading and Writing Data: Reading/writing from formats like CSV, Excel, and SQL.\n",
    "8. Data Transformation: Reshaping data, applying functions, and converting data types.\n",
    "\n",
    "- Series: A one-dimensional labeled array (similar to a list or a 1D array in NumPy). It can hold any data type (integers, strings, floats, etc.) and is often used for individual columns or rows in a dataset.\n",
    "- DataFrame: A two-dimensional, size-mutable, and potentially heterogeneous tabular data structure (similar to a table, Excel spreadsheet, or SQL table). It is the most commonly used object in pandas and provides both row and column labels."
   ]
  },
  {
   "cell_type": "markdown",
   "metadata": {},
   "source": [
    "**creating dataframe**"
   ]
  },
  {
   "cell_type": "code",
   "execution_count": null,
   "metadata": {},
   "outputs": [],
   "source": [
    "import pandas as pd\n",
    "\n",
    "# Creating a DataFrame from a dictionary\n",
    "data = {'Name': ['Alice', 'Bob', 'Charlie'],\n",
    "        'Age': [24, 27, 22],\n",
    "        'City': ['New York', 'San Francisco', 'Los Angeles']}\n",
    "df = pd.DataFrame(data)\n",
    "\n",
    "print(df)"
   ]
  },
  {
   "cell_type": "markdown",
   "metadata": {},
   "source": [
    "**reading and writing data**"
   ]
  },
  {
   "cell_type": "code",
   "execution_count": null,
   "metadata": {},
   "outputs": [],
   "source": [
    "# Reading from a CSV file\n",
    "df = pd.read_csv('data.csv')\n",
    "\n",
    "# Writing to a CSV file\n",
    "df.to_csv('output.csv', index=False)"
   ]
  },
  {
   "cell_type": "markdown",
   "metadata": {},
   "source": [
    "**basic operations**"
   ]
  },
  {
   "cell_type": "code",
   "execution_count": null,
   "metadata": {},
   "outputs": [],
   "source": [
    "# Displaying basic info\n",
    "print(df.head())  # First 5 rows\n",
    "print(df.describe())  # Summary statistics\n",
    "\n",
    "# Accessing columns and rows\n",
    "print(df['Name'])  # Access column 'Name'\n",
    "print(df.loc[0])  # Access the first row\n"
   ]
  },
  {
   "cell_type": "markdown",
   "metadata": {},
   "source": [
    "**merging dataframes**"
   ]
  },
  {
   "cell_type": "code",
   "execution_count": null,
   "metadata": {},
   "outputs": [],
   "source": [
    "# Merging two DataFrames on a common column 'Name'\n",
    "df1 = pd.DataFrame({'Name': ['Alice', 'Bob'], 'Age': [24, 27]})\n",
    "df2 = pd.DataFrame({'Name': ['Alice', 'Bob'], 'City': ['New York', 'San Francisco']})\n",
    "\n",
    "merged_df = pd.merge(df1, df2, on='Name')\n",
    "print(merged_df)\n"
   ]
  },
  {
   "cell_type": "markdown",
   "metadata": {},
   "source": [
    "**selecting data**"
   ]
  },
  {
   "cell_type": "code",
   "execution_count": null,
   "metadata": {},
   "outputs": [],
   "source": [
    "# Select rows where Age is greater than 23\n",
    "filtered_df = df[df['Age'] > 23]\n",
    "\n",
    "# Select specific columns\n",
    "subset_df = df[['Name', 'Age']]\n"
   ]
  },
  {
   "cell_type": "markdown",
   "metadata": {},
   "source": [
    "### NumPy\n",
    "provides support for large, multi-dimensional arrays and matrices, along with a collection of mathematical functions to operate on these arrays. It is one of the core libraries for data science, machine learning, and scientific computing in Python."
   ]
  },
  {
   "cell_type": "code",
   "execution_count": null,
   "metadata": {},
   "outputs": [],
   "source": [
    "import numpy as np\n",
    "\n",
    "# Creating a 1D array\n",
    "arr = np.array([1, 2, 3, 4])\n",
    "\n",
    "# Performing element-wise operations\n",
    "arr = arr * 2  # Multiplies each element by 2\n",
    "\n",
    "print(arr)\n"
   ]
  },
  {
   "cell_type": "markdown",
   "metadata": {},
   "source": [
    "### matplotlib\n",
    "    powerful plotting and visualization library for Python that allows you to create a wide range of static, animated, and interactive plots and charts. It is primarily used for data visualization, making it a common choice in data analysis, machine learning, and scientific computing.\n"
   ]
  },
  {
   "cell_type": "code",
   "execution_count": null,
   "metadata": {},
   "outputs": [],
   "source": [
    "import matplotlib.pyplot as plt\n",
    "\n",
    "# Data\n",
    "x = [1, 2, 3, 4, 5]\n",
    "y = [1, 4, 9, 16, 25]\n",
    "\n",
    "# Create a plot\n",
    "plt.plot(x, y, label=\"y = x^2\", color='blue', marker='o')\n",
    "\n",
    "# Add labels and title\n",
    "plt.xlabel('x-axis')\n",
    "plt.ylabel('y-axis')\n",
    "plt.title('Example of Line Plot')\n",
    "\n",
    "# Add a legend\n",
    "plt.legend()\n",
    "\n",
    "# Show the plot\n",
    "plt.show()"
   ]
  },
  {
   "cell_type": "markdown",
   "metadata": {},
   "source": [
    "### pathlib\n",
    "\n",
    "Flexible way to handle paths, compared to older methods like os.path."
   ]
  },
  {
   "cell_type": "code",
   "execution_count": null,
   "metadata": {},
   "outputs": [],
   "source": [
    "from pathlib import Path\n",
    "\n",
    "# Create a Path object\n",
    "path = Path(\"folder\") / \"subfolder\" / \"file.txt\"\n",
    "\n",
    "# Check if the path exists\n",
    "if path.exists():\n",
    "    print(f\"{path} exists!\")\n",
    "else:\n",
    "    print(f\"{path} does not exist.\")\n",
    "\n",
    "# Get the parent directory\n",
    "parent_dir = path.parent\n",
    "print(f\"Parent Directory: {parent_dir}\")\n",
    "\n",
    "# Read contents from a file (if it's a text file)\n",
    "if path.exists() and path.is_file():\n",
    "    with path.open(\"r\") as file:\n",
    "        content = file.read()\n",
    "        print(content)\n",
    "\n"
   ]
  },
  {
   "cell_type": "markdown",
   "metadata": {},
   "source": [
    "### os\n",
    "If you are working with older Python code or libraries that use os.path, it might be simpler to stick with os to maintain consistency and avoid introducing additional changes."
   ]
  },
  {
   "cell_type": "markdown",
   "metadata": {},
   "source": [
    "### json\n",
    "\n",
    "Purpose: Provides methods to work with JSON (JavaScript Object Notation), including parsing JSON strings and serializing Python objects into JSON format.\n",
    "Common Functions:\n",
    "- json.dumps(): Convert Python objects to JSON strings\n",
    "- json.loads(): Parse JSON strings into Python objects\n",
    "- json.dump(), json.load(): Read/write JSON data from/to files"
   ]
  },
  {
   "cell_type": "markdown",
   "metadata": {},
   "source": [
    "### re\n",
    "\n",
    "Purpose: Supports regular expressions for pattern matching and text manipulation.\n",
    "Common Functions:\n",
    "\n",
    "- re.match(), re.search(), re.findall(): Search for patterns in strings\n",
    "- re.sub(): Replace parts of strings matching a regular expression"
   ]
  },
  {
   "cell_type": "markdown",
   "metadata": {},
   "source": [
    "### math\n",
    "Purpose: Provides mathematical functions like trigonometry, logarithms, etc.\n",
    "Common Functions:\n",
    "\n",
    "- math.sqrt(): Compute the square root\n",
    "- math.sin(), math.cos(): Trigonometric functions\n",
    "- math.pi: Mathematical constant π"
   ]
  },
  {
   "cell_type": "markdown",
   "metadata": {},
   "source": [
    "### random\n",
    "\n",
    "Purpose: Provides functions to generate random numbers, make random selections, and shuffle sequences.\n",
    "Common Functions:\n",
    "- random.randint(): Generate a random integer\n",
    "- random.choice(): Select a random element from a sequence\n",
    "- random.shuffle(): Shuffle a sequence in place"
   ]
  },
  {
   "cell_type": "markdown",
   "metadata": {},
   "source": [
    "### datetime\n",
    "\n",
    "Purpose: Provides classes for working with dates and times.\n",
    "Common Functions:\n",
    "\n",
    "- datetime.datetime.now(): Get the current date and time\n",
    "- datetime.timedelta: Represents the difference between two dates/times\n",
    "- datetime.date(): Create and manipulate dates"
   ]
  },
  {
   "cell_type": "markdown",
   "metadata": {},
   "source": [
    "### csv\n",
    "\n",
    "Purpose: Provides functions for reading and writing CSV (Comma Separated Values) files.\n",
    "Common Functions:\n",
    "- csv.reader(): Read data from a CSV file\n",
    "- csv.writer(): Write data to a CSV file"
   ]
  }
 ],
 "metadata": {
  "kernelspec": {
   "display_name": ".venv",
   "language": "python",
   "name": "python3"
  },
  "language_info": {
   "codemirror_mode": {
    "name": "ipython",
    "version": 3
   },
   "file_extension": ".py",
   "mimetype": "text/x-python",
   "name": "python",
   "nbconvert_exporter": "python",
   "pygments_lexer": "ipython3",
   "version": "3.12.5"
  }
 },
 "nbformat": 4,
 "nbformat_minor": 2
}
