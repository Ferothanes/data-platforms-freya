{
 "cells": [
  {
   "cell_type": "markdown",
   "metadata": {},
   "source": [
    "### Python fundametals part 2"
   ]
  },
  {
   "cell_type": "markdown",
   "metadata": {},
   "source": [
    "**Different errors**\n",
    "- syntax errors\n",
    "- runtime errors (exceptions)\n",
    "- semantic errors (logical errors)"
   ]
  },
  {
   "cell_type": "markdown",
   "metadata": {},
   "source": [
    "**Logical errors**"
   ]
  },
  {
   "cell_type": "code",
   "execution_count": null,
   "metadata": {},
   "outputs": [],
   "source": [
    "import numpy as np\n",
    "\n",
    "radius = 5 \n",
    "\n",
    "area_circle = np.pi*radius\n",
    "print(f\"{area_circle = :.2f}\") #wrong calculation logical errors\n"
   ]
  },
  {
   "cell_type": "markdown",
   "metadata": {},
   "source": [
    "**How to avoid errors - try-except**"
   ]
  },
  {
   "cell_type": "code",
   "execution_count": null,
   "metadata": {},
   "outputs": [],
   "source": [
    "age = float(input(\"Enter your age\"))\n",
    "if not 0 <= age <= 125:\n",
    "    raise ValueError(\"Age must between 0 and 125\")\n",
    "print(f\"you are {age} years old\")"
   ]
  },
  {
   "cell_type": "code",
   "execution_count": null,
   "metadata": {},
   "outputs": [],
   "source": [
    "try:\n",
    "    age = float(input(\"Enter your age\"))\n",
    "    if not 0 <= age <= 125:\n",
    "        raise ValueError(\"Age must between 0 and 125\")\n",
    "    print(f\"you are {age} years old\")\n",
    "except ValueError as err:\n",
    "    print(err)"
   ]
  },
  {
   "cell_type": "code",
   "execution_count": null,
   "metadata": {},
   "outputs": [],
   "source": [
    "while True:\n",
    "    try:\n",
    "        age = float(input(\"Enter your age\"))\n",
    "        if not 0 <= age <= 125:\n",
    "            raise ValueError(\"Age must between 0 and 125\")\n",
    "        print(f\"you are {age} years old\")\n",
    "        break\n",
    "    except ValueError as err:\n",
    "        print(err)"
   ]
  },
  {
   "cell_type": "markdown",
   "metadata": {},
   "source": [
    "### Functions"
   ]
  },
  {
   "cell_type": "code",
   "execution_count": null,
   "metadata": {},
   "outputs": [],
   "source": [
    "def squarer(x):\n",
    "    return x**2\n",
    "\n",
    "squarer(3), squarer(5), squarer(-3)"
   ]
  },
  {
   "cell_type": "code",
   "execution_count": null,
   "metadata": {},
   "outputs": [],
   "source": [
    "[squarer(x) for x in range(10)]"
   ]
  },
  {
   "cell_type": "code",
   "execution_count": null,
   "metadata": {},
   "outputs": [],
   "source": [
    "def smallest(number1, number2):\n",
    "    if number1 > number2:\n",
    "        return number2\n",
    "    return number1\n",
    "\n",
    "smallest(7,1), smallest (7,7)"
   ]
  },
  {
   "cell_type": "markdown",
   "metadata": {},
   "source": [
    "**default value**"
   ]
  },
  {
   "cell_type": "code",
   "execution_count": null,
   "metadata": {},
   "outputs": [],
   "source": [
    "def draw_ascii_pattern(number_rows = 5):\n",
    "    for i in range(1, number_rows + 1):\n",
    "        print(i * \"x \" + (number_rows-i)*\"o \")\n",
    "\n",
    "draw_ascii_pattern()"
   ]
  },
  {
   "cell_type": "code",
   "execution_count": null,
   "metadata": {},
   "outputs": [],
   "source": [
    "draw_ascii_pattern(9)"
   ]
  },
  {
   "cell_type": "markdown",
   "metadata": {},
   "source": [
    "**arbitrary arguments, \\*args**"
   ]
  },
  {
   "cell_type": "code",
   "execution_count": null,
   "metadata": {},
   "outputs": [],
   "source": [
    "def my_mean(*args):\n",
    "    print(args)\n",
    "    sum_ = 0\n",
    "    for arg in args:\n",
    "        sum_ += arg\n",
    "    return sum_/len(args)\n",
    "\n",
    "my_mean(1,2,3,4)"
   ]
  },
  {
   "cell_type": "markdown",
   "metadata": {},
   "source": [
    "**keyword arguments \\*\\*kwargs**"
   ]
  },
  {
   "cell_type": "code",
   "execution_count": null,
   "metadata": {},
   "outputs": [],
   "source": [
    "import numpy as np\n",
    "\n",
    "def simulate_dices(throws = 1, dices = 2):\n",
    "    print(np.random.randint(1,7, (throws, dices)))\n",
    "\n",
    "simulate_dices()"
   ]
  },
  {
   "cell_type": "code",
   "execution_count": null,
   "metadata": {},
   "outputs": [],
   "source": [
    "simulate_dices(throws = 4, dices = 3) #positional arguments\n",
    "simulate_dices(3, 5) #keyword arguments"
   ]
  },
  {
   "cell_type": "markdown",
   "metadata": {},
   "source": [
    "**unpack arguments**"
   ]
  },
  {
   "cell_type": "code",
   "execution_count": null,
   "metadata": {},
   "outputs": [],
   "source": [
    "option_list = [2,3] \n",
    "simulate_dices(*option_list) #unpack a list "
   ]
  },
  {
   "cell_type": "code",
   "execution_count": null,
   "metadata": {},
   "outputs": [],
   "source": [
    "option_dict = dict(dices = 2, throws = 3)\n",
    "simulate_dices(**option_dict) #unpack a dictionary"
   ]
  },
  {
   "cell_type": "markdown",
   "metadata": {},
   "source": [
    "**lambda functions**"
   ]
  },
  {
   "cell_type": "code",
   "execution_count": null,
   "metadata": {},
   "outputs": [],
   "source": [
    "cuber = lambda x: x**3\n",
    "cuber(3)  # 3 = x: 3 upphöjt till 3"
   ]
  },
  {
   "cell_type": "markdown",
   "metadata": {},
   "source": [
    "### Matplotlib \n",
    "Provides a robust framework for generating a variety of plots, such as line graphs, scatter plots, bar charts, histograms, and more. \n",
    "\n",
    "### Pyplot\n",
    "A module within the matplotlib library that provides a collection of functions for generating plots in a style similar to MATLAB. It's designed to make plotting easier and more accessible, especially for beginners.\n",
    "has functions like:\n",
    "- plot(): Creates a line plot.\n",
    "- scatter(): Creates a scatter plot.\n",
    "- bar(): Creates a bar chart.\n",
    "- xlabel(), ylabel(): Add labels to axes.\n",
    "- title(): Add a title to the plot.\n",
    "- show(): Display the plot."
   ]
  },
  {
   "cell_type": "code",
   "execution_count": null,
   "metadata": {},
   "outputs": [],
   "source": [
    "import matplotlib.pyplot as plt\n",
    "\n",
    "# Simple data\n",
    "x = [1, 2, 3, 4, 5]\n",
    "y = [2, 4, 6, 8, 10]\n",
    "\n",
    "# Create a basic line graph\n",
    "plt.plot(x, y, marker='o', linestyle='-', color='b', label='y = 2x')\n",
    "\n",
    "# Add labels and title\n",
    "plt.xlabel('X-axis')\n",
    "plt.ylabel('Y-axis')\n",
    "plt.title('Simple Graph Example')\n",
    "\n",
    "# Add a legend\n",
    "plt.legend()\n",
    "\n",
    "# Show the graph\n",
    "plt.show()"
   ]
  },
  {
   "cell_type": "code",
   "execution_count": null,
   "metadata": {},
   "outputs": [],
   "source": [
    "import matplotlib.pyplot as plt\n",
    "\n",
    "f = lambda x: 3 * x - 2\n",
    "def g(x):\n",
    "    return x**2-2\n",
    "\n",
    "\n",
    "x = tuple(range(-5,5))\n",
    "\n",
    "y = [f(i) for i in x]\n",
    "y2 = [g(i) for i in x]\n",
    "\n",
    "plt.plot(x, y)\n",
    "plt.plot(x, y2)\n",
    "plt.title(\"plotting 2 functions\")\n",
    "plt.xlabel(\"y\")\n",
    "plt.xlabel(\"x\")\n",
    "plt.legend([\"$f(x) = x3 - 2$\", \"$g(x) = x^2-2$\"])\n",
    "x, y\n",
    "\n"
   ]
  },
  {
   "cell_type": "markdown",
   "metadata": {},
   "source": [
    "**numpy for plotting**"
   ]
  },
  {
   "cell_type": "code",
   "execution_count": null,
   "metadata": {},
   "outputs": [],
   "source": [
    "x = np.linspace(-np.pi, np.pi)\n",
    "x"
   ]
  },
  {
   "cell_type": "markdown",
   "metadata": {},
   "source": [
    "## File handling"
   ]
  },
  {
   "cell_type": "code",
   "execution_count": null,
   "metadata": {},
   "outputs": [],
   "source": [
    "import re\n",
    "\n",
    "with open (\"data/ml_text_raw.txt\", 'r') as file:\n",
    "    raw_text = file.read()\n",
    "\n",
    "\n",
    "text_fixed_spacing = re.sub(r\"\\s+\", \" \",raw_text)\n",
    "text_fixed_spacing"
   ]
  },
  {
   "cell_type": "code",
   "execution_count": null,
   "metadata": {},
   "outputs": [],
   "source": [
    "text_fixed_spacing.split(\". \")"
   ]
  },
  {
   "cell_type": "code",
   "execution_count": null,
   "metadata": {},
   "outputs": [],
   "source": [
    "sentences = [text.strip().capitalize() for text in text_fixed_spacing.split(\". \")]\n",
    "sentences = sentences[:-1]\n",
    "sentences"
   ]
  },
  {
   "cell_type": "code",
   "execution_count": null,
   "metadata": {},
   "outputs": [],
   "source": [
    "cleaned_text = \".\\n\".join(sentences)\n",
    "print(cleaned_text)"
   ]
  },
  {
   "cell_type": "markdown",
   "metadata": {},
   "source": [
    "### Save new file with cleaned text**\n",
    "\n",
    "\"w\" stands for write mode.\n",
    "- Creates the File: If the file doesn’t already exist, it creates a new file with the specified name.\n",
    "- Overwrites the File: If the file already exists, its contents are cleared (erased) before writing new content.\n",
    "\n",
    "**Other Modes in open()**\n",
    "\n",
    "- \"r\": Read mode (default). Opens the file for reading only. Throws an error if the file doesn’t exist.\n",
    "- \"a\": Append mode. Opens the file for writing but doesn’t erase its contents. New data is added to the end of the file.\n",
    "- \"x\": Exclusive creation. Creates a new file but raises an error if the file already exists.\n",
    "- \"r+\": Read and write. Opens the file for both reading and writing. Throws an error if the file doesn’t exist."
   ]
  },
  {
   "cell_type": "code",
   "execution_count": 19,
   "metadata": {},
   "outputs": [],
   "source": [
    "with open(\"data/cleaned_ml_text.txt\", \"w\") as file: #Använd with INTE connect\n",
    "    file.write(cleaned_text)"
   ]
  }
 ],
 "metadata": {
  "kernelspec": {
   "display_name": ".venv",
   "language": "python",
   "name": "python3"
  },
  "language_info": {
   "codemirror_mode": {
    "name": "ipython",
    "version": 3
   },
   "file_extension": ".py",
   "mimetype": "text/x-python",
   "name": "python",
   "nbconvert_exporter": "python",
   "pygments_lexer": "ipython3",
   "version": "3.12.5"
  }
 },
 "nbformat": 4,
 "nbformat_minor": 2
}
