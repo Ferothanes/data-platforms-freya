{
 "cells": [
  {
   "cell_type": "markdown",
   "metadata": {},
   "source": [
    "### Python fundametals part 2"
   ]
  },
  {
   "cell_type": "markdown",
   "metadata": {},
   "source": [
    "**Different errors**\n",
    "- syntax errors\n",
    "- runtime errors (exceptions)\n",
    "- semantic errors (logical errors)"
   ]
  },
  {
   "cell_type": "markdown",
   "metadata": {},
   "source": [
    "**Logical errors**"
   ]
  },
  {
   "cell_type": "code",
   "execution_count": 1,
   "metadata": {},
   "outputs": [
    {
     "name": "stdout",
     "output_type": "stream",
     "text": [
      "area_circle = 15.71\n"
     ]
    }
   ],
   "source": [
    "import numpy as np\n",
    "\n",
    "radius = 5 \n",
    "area_circle = np.pi*radius\n",
    "print(f\"{area_circle = :.2f}\") #wrong calculation logical errors\n"
   ]
  },
  {
   "cell_type": "markdown",
   "metadata": {},
   "source": [
    "**How to avoid errors - try-except**"
   ]
  },
  {
   "cell_type": "code",
   "execution_count": 3,
   "metadata": {},
   "outputs": [
    {
     "name": "stdout",
     "output_type": "stream",
     "text": [
      "you are 29.0 years old\n"
     ]
    }
   ],
   "source": [
    "age = float(input(\"Enter your age\"))\n",
    "if not 0 <= age <= 125:\n",
    "    raise ValueError(\"Age must between 0 and 125\")\n",
    "print(f\"you are {age} years old\")"
   ]
  },
  {
   "cell_type": "code",
   "execution_count": 9,
   "metadata": {},
   "outputs": [
    {
     "name": "stdout",
     "output_type": "stream",
     "text": [
      "Age must be between 0 and 125\n",
      "You are 29.0 years old\n"
     ]
    }
   ],
   "source": [
    "while True:  # Start an infinite loop to repeatedly prompt for valid input\n",
    "    try:\n",
    "        # Prompt the user to enter their age and convert it to a float\n",
    "        age = float(input(\"Enter your age\"))\n",
    "        \n",
    "        # Check if the entered age is not within the range of 0 to 125\n",
    "        if not 0 <= age <= 125:\n",
    "            # If the age is invalid, raise a ValueError with a custom message\n",
    "            raise ValueError(\"Age must be between 0 and 125\")\n",
    "        \n",
    "        # If the age is valid, print a confirmation message\n",
    "        print(f\"You are {age} years old\")\n",
    "        # Exit the loop since the input was valid\n",
    "        break\n",
    "    except ValueError as err:  # Handle any ValueError raised\n",
    "        # Print the error message (either from `raise` or invalid input conversion)\n",
    "        print(err) #err is a common short form for \"error\""
   ]
  },
  {
   "cell_type": "markdown",
   "metadata": {},
   "source": [
    "### Functions"
   ]
  },
  {
   "cell_type": "code",
   "execution_count": 20,
   "metadata": {},
   "outputs": [
    {
     "data": {
      "text/plain": [
       "(9, 25, 9)"
      ]
     },
     "execution_count": 20,
     "metadata": {},
     "output_type": "execute_result"
    }
   ],
   "source": [
    "# Define a function named 'squarer' that takes one argument 'x'\n",
    "def squarer(x):\n",
    "    # Return the square of the input 'x' (x raised to the power of 2)\n",
    "    return x**2\n",
    "\n",
    "# Call the 'squarer' function with 3, 5, and -3, and return the results as a tuple\n",
    "# squarer(3) -> 3**2 = 9\n",
    "# squarer(5) -> 5**2 = 25\n",
    "# squarer(-3) -> (-3)**2 = 9\n",
    "squarer(3), squarer(5), squarer(-3)  # Output: (9, 25, 9)\n",
    "\n"
   ]
  },
  {
   "cell_type": "code",
   "execution_count": 22,
   "metadata": {},
   "outputs": [
    {
     "data": {
      "text/plain": [
       "[0, 1, 4, 9, 16, 25, 36, 49, 64, 81]"
      ]
     },
     "execution_count": 22,
     "metadata": {},
     "output_type": "execute_result"
    }
   ],
   "source": [
    "# A list comprehension to generate a list of results from the squarer(x) function\n",
    "[squarer(x) for x in range(10)]\n",
    "\n",
    "# squarer(x): A function (presumably defined elsewhere in the code) that performs an operation on x\n",
    "# For example, it might square the value of x, but you'd need to check its definition.\n",
    "\n",
    "# for x in range(10): A loop that iterates over the numbers 0 through 9\n",
    "# range(10) generates a sequence of numbers: [0, 1, 2, 3, 4, 5, 6, 7, 8, 9]\n",
    "\n",
    "# For each number x in range(10), squarer(x) is called, and its result is added to the list\n"
   ]
  },
  {
   "cell_type": "code",
   "execution_count": 23,
   "metadata": {},
   "outputs": [
    {
     "data": {
      "text/plain": [
       "(1, 7)"
      ]
     },
     "execution_count": 23,
     "metadata": {},
     "output_type": "execute_result"
    }
   ],
   "source": [
    "def smallest(number1, number2):\n",
    "    if number1 > number2:\n",
    "        return number2\n",
    "    return number1\n",
    "\n",
    "smallest(7,1), smallest (7,7)"
   ]
  },
  {
   "cell_type": "markdown",
   "metadata": {},
   "source": [
    "**default value**"
   ]
  },
  {
   "cell_type": "code",
   "execution_count": 24,
   "metadata": {},
   "outputs": [
    {
     "name": "stdout",
     "output_type": "stream",
     "text": [
      "x o o o o \n",
      "x x o o o \n",
      "x x x o o \n",
      "x x x x o \n",
      "x x x x x \n"
     ]
    }
   ],
   "source": [
    "def draw_ascii_pattern(number_rows = 5):\n",
    "    # Define a function named 'draw_ascii_pattern' that takes one argument 'number_rows' with a default value of 5.\n",
    "    # 'number_rows' specifies the number of rows in the ASCII pattern.\n",
    "    \n",
    "    for i in range(1, number_rows + 1): \n",
    "        # Start a loop that runs from 1 to 'number_rows' (inclusive).\n",
    "        # 'i' represents the current row number in the pattern.\n",
    "        \n",
    "        print(i * \"x \" + (number_rows - i) * \"o \")\n",
    "        # For each row:\n",
    "        # - Generate 'i' occurrences of \"x \" (each 'x ' followed by a space).\n",
    "        # - Generate '(number_rows - i)' occurrences of \"o \" (each 'o ' followed by a space).\n",
    "        # - Combine both strings and print the result to create one row of the pattern.\n"
   ]
  },
  {
   "cell_type": "code",
   "execution_count": 26,
   "metadata": {},
   "outputs": [
    {
     "name": "stdout",
     "output_type": "stream",
     "text": [
      "x o o o o o o o o \n",
      "x x o o o o o o o \n",
      "x x x o o o o o o \n",
      "x x x x o o o o o \n",
      "x x x x x o o o o \n",
      "x x x x x x o o o \n",
      "x x x x x x x o o \n",
      "x x x x x x x x o \n",
      "x x x x x x x x x \n"
     ]
    }
   ],
   "source": [
    "draw_ascii_pattern(9)"
   ]
  },
  {
   "cell_type": "markdown",
   "metadata": {},
   "source": [
    "### arbitrary arguments, \\*args\n",
    "- Arbitrary arguments in Python let you pass any number of arguments to a function using *args. Inside the function, args will store these arguments as a tuple. This way, you don't need to know how many arguments will be passed ahead of time."
   ]
  },
  {
   "cell_type": "code",
   "execution_count": 38,
   "metadata": {},
   "outputs": [
    {
     "name": "stdout",
     "output_type": "stream",
     "text": [
      "(1, 2, 3, 4)\n"
     ]
    },
    {
     "data": {
      "text/plain": [
       "2.5"
      ]
     },
     "execution_count": 38,
     "metadata": {},
     "output_type": "execute_result"
    }
   ],
   "source": [
    "## Calculates the average \n",
    "def my_mean(*args):\n",
    "    print(args)\n",
    "    sum_ = 0\n",
    "    for arg in args:\n",
    "        sum_ += arg\n",
    "    return sum_/len(args)\n",
    "\n",
    "my_mean(1,2,3,4)"
   ]
  },
  {
   "cell_type": "code",
   "execution_count": null,
   "metadata": {},
   "outputs": [],
   "source": [
    "def my_mean(*args):\n",
    "    # Define a function named 'my_mean' which accepts an arbitrary number of arguments.\n",
    "    # The *args will collect all the passed arguments into a tuple called 'args'.\n",
    "\n",
    "    print(args)\n",
    "    # Print the tuple of arguments received. If you call my_mean(1, 2, 3, 4), it will print: (1, 2, 3, 4)\n",
    "\n",
    "    sum_ = 0\n",
    "    # Initialize a variable 'sum_' to 0. This will store the cumulative sum of the arguments.\n",
    "\n",
    "    for arg in args:\n",
    "        # Iterate through each element (argument) in the 'args' tuple.\n",
    "        sum_ += arg\n",
    "        # For each 'arg', add its value to the 'sum_'.\n",
    "\n",
    "    return sum_ / len(args)\n",
    "    # Return the mean (average) by dividing the sum of arguments by the number of arguments (len(args)).\n",
    "    # This calculates the arithmetic mean of the numbers passed.\n",
    "\n",
    "# Call the function with some arguments\n",
    "my_mean(1, 2, 3, 4)"
   ]
  },
  {
   "cell_type": "markdown",
   "metadata": {},
   "source": [
    "### keyword arguments \\*\\*kwargs"
   ]
  },
  {
   "cell_type": "code",
   "execution_count": 70,
   "metadata": {},
   "outputs": [
    {
     "name": "stdout",
     "output_type": "stream",
     "text": [
      "[[3 5]\n",
      " [6 2]]\n"
     ]
    }
   ],
   "source": [
    "import numpy as np\n",
    "# numpy library used for random number generation.\n",
    "\n",
    "def simulate_dices(throws = 2, dices = 2):\n",
    "    # Define a function to simulate rolling dice. It takes:\n",
    "    # - 'throws': number of times to roll (default 1)\n",
    "    # - 'dices': number of dice to roll each time (default 2)\n",
    "    \n",
    "    print(np.random.randint(1, 7, (throws, dices)))\n",
    "    # np.random.randint generates random integers from 1 to 6 (like dice rolls).\n",
    "    # It prints a 2D array with 'throws' rows and 'dices' columns.\n",
    "\n",
    "simulate_dices()"
   ]
  },
  {
   "cell_type": "code",
   "execution_count": 69,
   "metadata": {},
   "outputs": [
    {
     "name": "stdout",
     "output_type": "stream",
     "text": [
      "[[6]\n",
      " [2]]\n",
      "[[6]\n",
      " [1]]\n"
     ]
    }
   ],
   "source": [
    "simulate_dices(throws = 2, dices = 1) #positional arguments\n",
    "simulate_dices(2, 1) #keyword arguments"
   ]
  },
  {
   "cell_type": "markdown",
   "metadata": {},
   "source": [
    "**unpack arguments**"
   ]
  },
  {
   "cell_type": "code",
   "execution_count": 74,
   "metadata": {},
   "outputs": [
    {
     "name": "stdout",
     "output_type": "stream",
     "text": [
      "[[3 3 1]\n",
      " [2 3 5]]\n"
     ]
    }
   ],
   "source": [
    "option_list = [2,3] \n",
    "simulate_dices(*option_list) #unpack a list "
   ]
  },
  {
   "cell_type": "code",
   "execution_count": 77,
   "metadata": {},
   "outputs": [
    {
     "name": "stdout",
     "output_type": "stream",
     "text": [
      "[[2 5]\n",
      " [6 4]]\n"
     ]
    }
   ],
   "source": [
    "option_dict = dict(dices = 2, throws = 2)\n",
    "simulate_dices(**option_dict) #unpack a dictionary"
   ]
  },
  {
   "cell_type": "markdown",
   "metadata": {},
   "source": [
    "**lambda functions**\n",
    "\n",
    "- A lambda function is a small, anonymous function defined using the lambda keyword. It allows you to create a function in a single line, without giving it a name."
   ]
  },
  {
   "cell_type": "code",
   "execution_count": 78,
   "metadata": {},
   "outputs": [
    {
     "data": {
      "text/plain": [
       "27"
      ]
     },
     "execution_count": 78,
     "metadata": {},
     "output_type": "execute_result"
    }
   ],
   "source": [
    "cuber = lambda x: x**3\n",
    "cuber(3)\n",
    "\n",
    "# The lambda function is executed with x = 3.\n",
    "# It computes 3**3, which results in 27."
   ]
  },
  {
   "cell_type": "code",
   "execution_count": 79,
   "metadata": {},
   "outputs": [
    {
     "data": {
      "image/png": "[encoded data removed]",
      "text/plain": [
       "<Figure size 640x480 with 1 Axes>"
      ]
     },
     "metadata": {},
     "output_type": "display_data"
    }
   ],
   "source": [
    "import matplotlib.pyplot as plt\n",
    "\n",
    "# Simple data\n",
    "x = [1, 2, 3, 4, 5]\n",
    "y = [2, 4, 6, 8, 10]\n",
    "\n",
    "# Create a basic line graph\n",
    "plt.plot(x, y, marker='o', linestyle='-', color='b', label='y = 2x')\n",
    "\n",
    "# Add labels and title\n",
    "plt.xlabel('X-axis')\n",
    "plt.ylabel('Y-axis')\n",
    "plt.title('Simple Graph Example')\n",
    "\n",
    "# Add a legend\n",
    "plt.legend()\n",
    "\n",
    "# Show the graph\n",
    "plt.show()"
   ]
  },
  {
   "cell_type": "code",
   "execution_count": 80,
   "metadata": {},
   "outputs": [
    {
     "data": {
      "text/plain": [
       "((-5, -4, -3, -2, -1, 0, 1, 2, 3, 4), [-17, -14, -11, -8, -5, -2, 1, 4, 7, 10])"
      ]
     },
     "execution_count": 80,
     "metadata": {},
     "output_type": "execute_result"
    },
    {
     "data": {
      "image/png": "[encoded data removed]",
      "text/plain": [
       "<Figure size 640x480 with 1 Axes>"
      ]
     },
     "metadata": {},
     "output_type": "display_data"
    }
   ],
   "source": [
    "import matplotlib.pyplot as plt\n",
    "\n",
    "f = lambda x: 3 * x - 2\n",
    "def g(x):\n",
    "    return x**2-2\n",
    "\n",
    "\n",
    "x = tuple(range(-5,5))\n",
    "\n",
    "y = [f(i) for i in x]\n",
    "y2 = [g(i) for i in x]\n",
    "\n",
    "plt.plot(x, y)\n",
    "plt.plot(x, y2)\n",
    "plt.title(\"plotting 2 functions\")\n",
    "plt.xlabel(\"y\")\n",
    "plt.xlabel(\"x\")\n",
    "plt.legend([\"$f(x) = x3 - 2$\", \"$g(x) = x^2-2$\"])\n",
    "x, y\n",
    "\n"
   ]
  },
  {
   "cell_type": "markdown",
   "metadata": {},
   "source": [
    "**numpy for plotting**"
   ]
  },
  {
   "cell_type": "code",
   "execution_count": 81,
   "metadata": {},
   "outputs": [
    {
     "data": {
      "text/plain": [
       "array([-3.14159265, -3.01336438, -2.88513611, -2.75690784, -2.62867957,\n",
       "       -2.5004513 , -2.37222302, -2.24399475, -2.11576648, -1.98753821,\n",
       "       -1.85930994, -1.73108167, -1.60285339, -1.47462512, -1.34639685,\n",
       "       -1.21816858, -1.08994031, -0.96171204, -0.83348377, -0.70525549,\n",
       "       -0.57702722, -0.44879895, -0.32057068, -0.19234241, -0.06411414,\n",
       "        0.06411414,  0.19234241,  0.32057068,  0.44879895,  0.57702722,\n",
       "        0.70525549,  0.83348377,  0.96171204,  1.08994031,  1.21816858,\n",
       "        1.34639685,  1.47462512,  1.60285339,  1.73108167,  1.85930994,\n",
       "        1.98753821,  2.11576648,  2.24399475,  2.37222302,  2.5004513 ,\n",
       "        2.62867957,  2.75690784,  2.88513611,  3.01336438,  3.14159265])"
      ]
     },
     "execution_count": 81,
     "metadata": {},
     "output_type": "execute_result"
    }
   ],
   "source": [
    "x = np.linspace(-np.pi, np.pi)\n",
    "x\n",
    "# np.linspace() generates an array of evenly spaced values over a specified range.\n",
    "# -np.pi is the start value, and np.pi is the end value, so it generates values from -π to π.\n",
    "# By default, np.linspace generates 50 values between the start and end points.\n",
    "# x will return the generated array of values between -π and π.\n"
   ]
  },
  {
   "cell_type": "markdown",
   "metadata": {},
   "source": [
    "## File handling"
   ]
  },
  {
   "cell_type": "code",
   "execution_count": 82,
   "metadata": {},
   "outputs": [
    {
     "data": {
      "text/plain": [
       "'SUperViseD LEARNinG IS a PaRt oF MaCHinE LEARniNG, wheRE aLgORithms LEARn FRom a tRAINIng DaTa Set. THese aLgORithms TRY TO MaKE SeNSe Of ThE DaTa BY MaTChiNG INpUtS TO CoRResPonDInG OutpUTs. In suPERviseD LEARNing, EACH DaTa PoINt in ThE tRAINIng Set IS LaBELEd WiTH ThE CoRReCT OutpUT, WHich aLLOWS thE ALgORithM To LEARn FRom ThE ExAMPles. THis alLOWS thE ALgORithM To MaKe PREDIcTions On UnSEEN DaTa, BaSED On ITs TRaiNIng. iT IS USEd FoR taSKS SuCH AS CLaSSIFICaTion, WheRE ThE GoAL IS To aSSIGn a LaBEL To InpUt DaTa, anD REGrESsIoN, WheRE ThE GoAL IS To PREDIcT a CoNtINuoUS OutpUT VaRIabLE. SuPERviseD LEARNing HaS MaNY APPLIcatIoNS In ArEas LIke Image ReCOGNitiON, NatuRaL LaNGuaGE PRoCESSINg, anD FiNaNCiaL FoRECasting.'"
      ]
     },
     "execution_count": 82,
     "metadata": {},
     "output_type": "execute_result"
    }
   ],
   "source": [
    "import re\n",
    "\n",
    "with open (\"data/ml_text_raw.txt\", 'r') as file:\n",
    "    raw_text = file.read()\n",
    "\n",
    "\n",
    "text_fixed_spacing = re.sub(r\"\\s+\", \" \",raw_text)\n",
    "text_fixed_spacing"
   ]
  },
  {
   "cell_type": "code",
   "execution_count": 83,
   "metadata": {},
   "outputs": [
    {
     "data": {
      "text/plain": [
       "['SUperViseD LEARNinG IS a PaRt oF MaCHinE LEARniNG, wheRE aLgORithms LEARn FRom a tRAINIng DaTa Set',\n",
       " 'THese aLgORithms TRY TO MaKE SeNSe Of ThE DaTa BY MaTChiNG INpUtS TO CoRResPonDInG OutpUTs',\n",
       " 'In suPERviseD LEARNing, EACH DaTa PoINt in ThE tRAINIng Set IS LaBELEd WiTH ThE CoRReCT OutpUT, WHich aLLOWS thE ALgORithM To LEARn FRom ThE ExAMPles',\n",
       " 'THis alLOWS thE ALgORithM To MaKe PREDIcTions On UnSEEN DaTa, BaSED On ITs TRaiNIng',\n",
       " 'iT IS USEd FoR taSKS SuCH AS CLaSSIFICaTion, WheRE ThE GoAL IS To aSSIGn a LaBEL To InpUt DaTa, anD REGrESsIoN, WheRE ThE GoAL IS To PREDIcT a CoNtINuoUS OutpUT VaRIabLE',\n",
       " 'SuPERviseD LEARNing HaS MaNY APPLIcatIoNS In ArEas LIke Image ReCOGNitiON, NatuRaL LaNGuaGE PRoCESSINg, anD FiNaNCiaL FoRECasting.']"
      ]
     },
     "execution_count": 83,
     "metadata": {},
     "output_type": "execute_result"
    }
   ],
   "source": [
    "text_fixed_spacing.split(\". \")"
   ]
  },
  {
   "cell_type": "code",
   "execution_count": 84,
   "metadata": {},
   "outputs": [
    {
     "data": {
      "text/plain": [
       "['Supervised learning is a part of machine learning, where algorithms learn from a training data set',\n",
       " 'These algorithms try to make sense of the data by matching inputs to corresponding outputs',\n",
       " 'In supervised learning, each data point in the training set is labeled with the correct output, which allows the algorithm to learn from the examples',\n",
       " 'This allows the algorithm to make predictions on unseen data, based on its training',\n",
       " 'It is used for tasks such as classification, where the goal is to assign a label to input data, and regression, where the goal is to predict a continuous output variable']"
      ]
     },
     "execution_count": 84,
     "metadata": {},
     "output_type": "execute_result"
    }
   ],
   "source": [
    "sentences = [text.strip().capitalize() for text in text_fixed_spacing.split(\". \")]\n",
    "sentences = sentences[:-1]\n",
    "sentences"
   ]
  },
  {
   "cell_type": "code",
   "execution_count": 85,
   "metadata": {},
   "outputs": [
    {
     "name": "stdout",
     "output_type": "stream",
     "text": [
      "Supervised learning is a part of machine learning, where algorithms learn from a training data set.\n",
      "These algorithms try to make sense of the data by matching inputs to corresponding outputs.\n",
      "In supervised learning, each data point in the training set is labeled with the correct output, which allows the algorithm to learn from the examples.\n",
      "This allows the algorithm to make predictions on unseen data, based on its training.\n",
      "It is used for tasks such as classification, where the goal is to assign a label to input data, and regression, where the goal is to predict a continuous output variable\n"
     ]
    }
   ],
   "source": [
    "cleaned_text = \".\\n\".join(sentences)\n",
    "print(cleaned_text)"
   ]
  },
  {
   "cell_type": "markdown",
   "metadata": {},
   "source": [
    "### Save new file with cleaned text**\n",
    "\n",
    "\"w\" stands for write mode.\n",
    "- Creates the File: If the file doesn’t already exist, it creates a new file with the specified name.\n",
    "- Overwrites the File: If the file already exists, its contents are cleared (erased) before writing new content.\n",
    "\n",
    "**Other Modes in open()**\n",
    "\n",
    "- \"r\": Read mode (default). Opens the file for reading only. Throws an error if the file doesn’t exist.\n",
    "- \"a\": Append mode. Opens the file for writing but doesn’t erase its contents. New data is added to the end of the file.\n",
    "- \"x\": Exclusive creation. Creates a new file but raises an error if the file already exists.\n",
    "- \"r+\": Read and write. Opens the file for both reading and writing. Throws an error if the file doesn’t exist."
   ]
  },
  {
   "cell_type": "code",
   "execution_count": 86,
   "metadata": {},
   "outputs": [],
   "source": [
    "with open(\"data/cleaned_ml_text.txt\", \"w\") as file: #Använd with INTE connect\n",
    "    file.write(cleaned_text)"
   ]
  }
 ],
 "metadata": {
  "kernelspec": {
   "display_name": ".venv",
   "language": "python",
   "name": "python3"
  },
  "language_info": {
   "codemirror_mode": {
    "name": "ipython",
    "version": 3
   },
   "file_extension": ".py",
   "mimetype": "text/x-python",
   "name": "python",
   "nbconvert_exporter": "python",
   "pygments_lexer": "ipython3",
   "version": "3.12.5"
  }
 },
 "nbformat": 4,
 "nbformat_minor": 2
}
