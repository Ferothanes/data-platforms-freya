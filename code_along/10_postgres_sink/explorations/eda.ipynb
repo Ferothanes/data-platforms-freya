{
 "cells": [
  {
   "cell_type": "markdown",
   "metadata": {},
   "source": [
    "# EDA cryptocuurencies coinmarketcap"
   ]
  },
  {
   "cell_type": "code",
   "execution_count": 58,
   "metadata": {},
   "outputs": [
    {
     "data": {
      "text/plain": [
       "{'status': {'timestamp': '2025-02-09T19:06:30.221Z',\n",
       "  'error_code': 0,\n",
       "  'error_message': None,\n",
       "  'elapsed': 21,\n",
       "  'credit_count': 1,\n",
       "  'notice': None},\n",
       " 'data': {'BTC': {'id': 1,\n",
       "   'name': 'Bitcoin',\n",
       "   'symbol': 'BTC',\n",
       "   'slug': 'bitcoin',\n",
       "   'num_market_pairs': 11928,\n",
       "   'date_added': '2010-07-13T00:00:00.000Z',\n",
       "   'tags': ['mineable',\n",
       "    'pow',\n",
       "    'sha-256',\n",
       "    'store-of-value',\n",
       "    'state-channel',\n",
       "    'coinbase-ventures-portfolio',\n",
       "    'three-arrows-capital-portfolio',\n",
       "    'polychain-capital-portfolio',\n",
       "    'binance-labs-portfolio',\n",
       "    'blockchain-capital-portfolio',\n",
       "    'boostvc-portfolio',\n",
       "    'cms-holdings-portfolio',\n",
       "    'dcg-portfolio',\n",
       "    'dragonfly-capital-portfolio',\n",
       "    'electric-capital-portfolio',\n",
       "    'fabric-ventures-portfolio',\n",
       "    'framework-ventures-portfolio',\n",
       "    'galaxy-digital-portfolio',\n",
       "    'huobi-capital-portfolio',\n",
       "    'alameda-research-portfolio',\n",
       "    'a16z-portfolio',\n",
       "    '1confirmation-portfolio',\n",
       "    'winklevoss-capital-portfolio',\n",
       "    'usv-portfolio',\n",
       "    'placeholder-ventures-portfolio',\n",
       "    'pantera-capital-portfolio',\n",
       "    'multicoin-capital-portfolio',\n",
       "    'paradigm-portfolio',\n",
       "    'bitcoin-ecosystem',\n",
       "    'ftx-bankruptcy-estate',\n",
       "    '2017-2018-alt-season'],\n",
       "   'max_supply': 21000000,\n",
       "   'circulating_supply': 19822075,\n",
       "   'total_supply': 19822075,\n",
       "   'is_active': 1,\n",
       "   'infinite_supply': False,\n",
       "   'platform': None,\n",
       "   'cmc_rank': 1,\n",
       "   'is_fiat': 0,\n",
       "   'self_reported_circulating_supply': None,\n",
       "   'self_reported_market_cap': None,\n",
       "   'tvl_ratio': None,\n",
       "   'last_updated': '2025-02-09T19:04:00.000Z',\n",
       "   'quote': {'USD': {'price': 96211.94186398202,\n",
       "     'volume_24h': 23816988767.60267,\n",
       "     'volume_change_24h': -22.6612,\n",
       "     'percent_change_1h': 0.10506559,\n",
       "     'percent_change_24h': -0.3185043,\n",
       "     'percent_change_7d': -1.10724526,\n",
       "     'percent_change_30d': 1.5459878,\n",
       "     'percent_change_60d': -4.32860077,\n",
       "     'percent_change_90d': 12.34277217,\n",
       "     'market_cap': 1907120327523.4915,\n",
       "     'market_cap_dominance': 60.5195,\n",
       "     'fully_diluted_market_cap': 2020450779143.62,\n",
       "     'tvl': None,\n",
       "     'last_updated': '2025-02-09T19:04:00.000Z'}}}}}"
      ]
     },
     "execution_count": 58,
     "metadata": {},
     "output_type": "execute_result"
    }
   ],
   "source": [
    "from requests import Request, Session\n",
    "from requests.exceptions import ConnectionError, Timeout, TooManyRedirects\n",
    "import json\n",
    "from pprint import pprint #better formated output\n",
    "import os \n",
    "from dotenv import load_dotenv\n",
    "\n",
    "load_dotenv()\n",
    "\n",
    "API_KEY = os.getenv(\"COINMARKET_API\")\n",
    "#url = 'https://sandbox-api.coinmarketcap.com/v1/cryptocurrency/listings/latest'\n",
    "API_URL = \"https://pro-api.coinmarketcap.com/v1/cryptocurrency/quotes/latest\"\n",
    "\n",
    "target_symbol = \"BTC\"\n",
    "\n",
    "parameters = {\n",
    "    'symbol': target_symbol,\n",
    "    'convert':'USD'\n",
    "}\n",
    "headers = {\n",
    "  'Accepts': 'application/json', #Accepts: This header tells the server that the client expects a JSON response.\n",
    "  'X-CMC_PRO_API_KEY': API_KEY, #X-CMC_PRO_API_KEY: This is an API key used to authenticate the request to the CoinMarketCap API. You must have a valid key to access the API.\n",
    "}\n",
    "\n",
    "session = Session()\n",
    "session.headers.update(headers)\n",
    "\n",
    "#Making the API Request\n",
    "try:\n",
    "  response = session.get(API_URL, params=parameters) #GET request, ADD URL\n",
    "  data = json.loads(response.text) #converts to JSON\n",
    "#Error Handling\n",
    "except (ConnectionError, Timeout, TooManyRedirects) as e:\n",
    "  print(e)\n",
    "\n",
    "data\n",
    "  "
   ]
  },
  {
   "cell_type": "code",
   "execution_count": 59,
   "metadata": {},
   "outputs": [
    {
     "data": {
      "text/plain": [
       "dict_keys(['status', 'data'])"
      ]
     },
     "execution_count": 59,
     "metadata": {},
     "output_type": "execute_result"
    }
   ],
   "source": [
    "data.keys()"
   ]
  },
  {
   "cell_type": "code",
   "execution_count": 60,
   "metadata": {},
   "outputs": [
    {
     "data": {
      "text/plain": [
       "dict_keys(['id', 'name', 'symbol', 'slug', 'num_market_pairs', 'date_added', 'tags', 'max_supply', 'circulating_supply', 'total_supply', 'is_active', 'infinite_supply', 'platform', 'cmc_rank', 'is_fiat', 'self_reported_circulating_supply', 'self_reported_market_cap', 'tvl_ratio', 'last_updated', 'quote'])"
      ]
     },
     "execution_count": 60,
     "metadata": {},
     "output_type": "execute_result"
    }
   ],
   "source": [
    "coin_data = data[\"data\"][\"BTC\"] #data[\"data\"] accessing list of dictionaries,where each dictionary represents a cryptocurrency. Adding [\"BTC\"] makes the varibel coin_data store information about a specific cryptocurrency\n",
    "#view \"symbol\" to see another dict like ETH = Etherium\n",
    "coin_data.keys() #Output: shows titles/keys"
   ]
  },
  {
   "cell_type": "code",
   "execution_count": 61,
   "metadata": {},
   "outputs": [
    {
     "data": {
      "text/plain": [
       "('Bitcoin',\n",
       " 'BTC',\n",
       " {'USD': {'price': 96211.94186398202,\n",
       "   'volume_24h': 23816988767.60267,\n",
       "   'volume_change_24h': -22.6612,\n",
       "   'percent_change_1h': 0.10506559,\n",
       "   'percent_change_24h': -0.3185043,\n",
       "   'percent_change_7d': -1.10724526,\n",
       "   'percent_change_30d': 1.5459878,\n",
       "   'percent_change_60d': -4.32860077,\n",
       "   'percent_change_90d': 12.34277217,\n",
       "   'market_cap': 1907120327523.4915,\n",
       "   'market_cap_dominance': 60.5195,\n",
       "   'fully_diluted_market_cap': 2020450779143.62,\n",
       "   'tvl': None,\n",
       "   'last_updated': '2025-02-09T19:04:00.000Z'}})"
      ]
     },
     "execution_count": 61,
     "metadata": {},
     "output_type": "execute_result"
    }
   ],
   "source": [
    "coin_data[\"name\"], coin_data[\"symbol\"], coin_data[\"quote\"] #Output: shows value of key\n"
   ]
  },
  {
   "cell_type": "code",
   "execution_count": 62,
   "metadata": {},
   "outputs": [
    {
     "data": {
      "text/plain": [
       "{'price': 96211.94186398202,\n",
       " 'volume_24h': 23816988767.60267,\n",
       " 'volume_change_24h': -22.6612,\n",
       " 'percent_change_1h': 0.10506559,\n",
       " 'percent_change_24h': -0.3185043,\n",
       " 'percent_change_7d': -1.10724526,\n",
       " 'percent_change_30d': 1.5459878,\n",
       " 'percent_change_60d': -4.32860077,\n",
       " 'percent_change_90d': 12.34277217,\n",
       " 'market_cap': 1907120327523.4915,\n",
       " 'market_cap_dominance': 60.5195,\n",
       " 'fully_diluted_market_cap': 2020450779143.62,\n",
       " 'tvl': None,\n",
       " 'last_updated': '2025-02-09T19:04:00.000Z'}"
      ]
     },
     "execution_count": 62,
     "metadata": {},
     "output_type": "execute_result"
    }
   ],
   "source": [
    "quote =coin_data[\"quote\"][\"USD\"]\n",
    "quote"
   ]
  },
  {
   "cell_type": "code",
   "execution_count": 63,
   "metadata": {},
   "outputs": [
    {
     "data": {
      "text/plain": [
       "(96211.94186398202, 23816988767.60267, '2025-02-09T19:04:00.000Z')"
      ]
     },
     "execution_count": 63,
     "metadata": {},
     "output_type": "execute_result"
    }
   ],
   "source": [
    "quote[\"price\"], quote[\"volume_24h\"], quote[\"last_updated\"]\n"
   ]
  }
 ],
 "metadata": {
  "kernelspec": {
   "display_name": ".venv",
   "language": "python",
   "name": "python3"
  },
  "language_info": {
   "codemirror_mode": {
    "name": "ipython",
    "version": 3
   },
   "file_extension": ".py",
   "mimetype": "text/x-python",
   "name": "python",
   "nbconvert_exporter": "python",
   "pygments_lexer": "ipython3",
   "version": "3.12.5"
  }
 },
 "nbformat": 4,
 "nbformat_minor": 2
}
