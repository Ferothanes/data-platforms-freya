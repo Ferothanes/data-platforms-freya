{
 "cells": [
  {
   "cell_type": "markdown",
   "metadata": {},
   "source": [
    "# EDA cryptocuurencies coinmarketcap"
   ]
  },
  {
   "cell_type": "code",
   "execution_count": null,
   "metadata": {},
   "outputs": [
    {
     "data": {
      "text/plain": [
       "{'status': {'timestamp': '2025-02-11T16:46:47.182Z',\n",
       "  'error_code': 0,\n",
       "  'error_message': None,\n",
       "  'elapsed': 18,\n",
       "  'credit_count': 1,\n",
       "  'notice': None},\n",
       " 'data': {'SHIB': {'id': 5994,\n",
       "   'name': 'Shiba Inu',\n",
       "   'symbol': 'SHIB',\n",
       "   'slug': 'shiba-inu',\n",
       "   'num_market_pairs': 932,\n",
       "   'date_added': '2020-08-01T00:00:00.000Z',\n",
       "   'tags': ['memes',\n",
       "    'ethereum-ecosystem',\n",
       "    'doggone-doggerel',\n",
       "    'base-ecosystem'],\n",
       "   'max_supply': None,\n",
       "   'circulating_supply': 589253900860076.2,\n",
       "   'total_supply': 589507260911478.4,\n",
       "   'platform': {'id': 1027,\n",
       "    'name': 'Ethereum',\n",
       "    'symbol': 'ETH',\n",
       "    'slug': 'ethereum',\n",
       "    'token_address': '0x95ad61b0a150d79219dcf64e1e6cc01f0b64c4ce'},\n",
       "   'is_active': 1,\n",
       "   'infinite_supply': False,\n",
       "   'cmc_rank': 17,\n",
       "   'is_fiat': 0,\n",
       "   'self_reported_circulating_supply': None,\n",
       "   'self_reported_market_cap': None,\n",
       "   'tvl_ratio': None,\n",
       "   'last_updated': '2025-02-11T16:44:00.000Z',\n",
       "   'quote': {'USD': {'price': 1.5873410900386604e-05,\n",
       "     'volume_24h': 265041311.78590992,\n",
       "     'volume_change_24h': 6.7897,\n",
       "     'percent_change_1h': -0.14913601,\n",
       "     'percent_change_24h': 0.0979614,\n",
       "     'percent_change_7d': 0.37532638,\n",
       "     'percent_change_30d': -27.26905001,\n",
       "     'percent_change_60d': -43.36416908,\n",
       "     'percent_change_90d': -40.08279697,\n",
       "     'market_cap': 9353469293.007662,\n",
       "     'market_cap_dominance': 0.2942,\n",
       "     'fully_diluted_market_cap': 9357490981.21,\n",
       "     'tvl': None,\n",
       "     'last_updated': '2025-02-11T16:44:00.000Z'}}}}}"
      ]
     },
     "execution_count": 7,
     "metadata": {},
     "output_type": "execute_result"
    }
   ],
   "source": [
    "from requests import Request, Session\n",
    "from requests.exceptions import ConnectionError, Timeout, TooManyRedirects\n",
    "import json\n",
    "from pprint import pprint #better formated output\n",
    "import os \n",
    "from dotenv import load_dotenv\n",
    "\n",
    "load_dotenv()\n",
    "\n",
    "API_KEY = os.getenv(\"COINMARKET_API\")\n",
    "#url = 'https://sandbox-api.coinmarketcap.com/v1/cryptocurrency/listings/latest'\n",
    "API_URL = \"https://pro-api.coinmarketcap.com/v1/cryptocurrency/quotes/latest\"\n",
    "\n",
    "target_symbol = \"SHIB\"\n",
    "\n",
    "parameters = {\n",
    "    'symbol': target_symbol,\n",
    "    'convert':'USD'\n",
    "}\n",
    "headers = {\n",
    "  'Accepts': 'application/json', #Accepts: This header tells the server that the client expects a JSON response.\n",
    "  'X-CMC_PRO_API_KEY': API_KEY, #X-CMC_PRO_API_KEY: This is an API key used to authenticate the request to the CoinMarketCap API. You must have a valid key to access the API.\n",
    "}\n",
    "\n",
    "session = Session()\n",
    "session.headers.update(headers)\n",
    "\n",
    "#Making the API Request\n",
    "try:\n",
    "  response = session.get(API_URL, params=parameters) #GET request, ADD URL\n",
    "  data = json.loads(response.text) #converts to JSON\n",
    "#Error Handling\n",
    "except (ConnectionError, Timeout, TooManyRedirects) as e:\n",
    "  print(e)\n",
    "\n",
    "data\n",
    "  "
   ]
  },
  {
   "cell_type": "code",
   "execution_count": 59,
   "metadata": {},
   "outputs": [
    {
     "data": {
      "text/plain": [
       "dict_keys(['status', 'data'])"
      ]
     },
     "execution_count": 59,
     "metadata": {},
     "output_type": "execute_result"
    }
   ],
   "source": [
    "data.keys()"
   ]
  },
  {
   "cell_type": "code",
   "execution_count": 60,
   "metadata": {},
   "outputs": [
    {
     "data": {
      "text/plain": [
       "dict_keys(['id', 'name', 'symbol', 'slug', 'num_market_pairs', 'date_added', 'tags', 'max_supply', 'circulating_supply', 'total_supply', 'is_active', 'infinite_supply', 'platform', 'cmc_rank', 'is_fiat', 'self_reported_circulating_supply', 'self_reported_market_cap', 'tvl_ratio', 'last_updated', 'quote'])"
      ]
     },
     "execution_count": 60,
     "metadata": {},
     "output_type": "execute_result"
    }
   ],
   "source": [
    "coin_data = data[\"data\"][\"BTC\"] #data[\"data\"] accessing list of dictionaries,where each dictionary represents a cryptocurrency. Adding [\"BTC\"] makes the varibel coin_data store information about a specific cryptocurrency\n",
    "#view \"symbol\" to see another dict like ETH = Etherium\n",
    "coin_data.keys() #Output: shows titles/keys"
   ]
  },
  {
   "cell_type": "code",
   "execution_count": 61,
   "metadata": {},
   "outputs": [
    {
     "data": {
      "text/plain": [
       "('Bitcoin',\n",
       " 'BTC',\n",
       " {'USD': {'price': 96211.94186398202,\n",
       "   'volume_24h': 23816988767.60267,\n",
       "   'volume_change_24h': -22.6612,\n",
       "   'percent_change_1h': 0.10506559,\n",
       "   'percent_change_24h': -0.3185043,\n",
       "   'percent_change_7d': -1.10724526,\n",
       "   'percent_change_30d': 1.5459878,\n",
       "   'percent_change_60d': -4.32860077,\n",
       "   'percent_change_90d': 12.34277217,\n",
       "   'market_cap': 1907120327523.4915,\n",
       "   'market_cap_dominance': 60.5195,\n",
       "   'fully_diluted_market_cap': 2020450779143.62,\n",
       "   'tvl': None,\n",
       "   'last_updated': '2025-02-09T19:04:00.000Z'}})"
      ]
     },
     "execution_count": 61,
     "metadata": {},
     "output_type": "execute_result"
    }
   ],
   "source": [
    "coin_data[\"name\"], coin_data[\"symbol\"], coin_data[\"quote\"] #Output: shows value of key\n"
   ]
  },
  {
   "cell_type": "code",
   "execution_count": 62,
   "metadata": {},
   "outputs": [
    {
     "data": {
      "text/plain": [
       "{'price': 96211.94186398202,\n",
       " 'volume_24h': 23816988767.60267,\n",
       " 'volume_change_24h': -22.6612,\n",
       " 'percent_change_1h': 0.10506559,\n",
       " 'percent_change_24h': -0.3185043,\n",
       " 'percent_change_7d': -1.10724526,\n",
       " 'percent_change_30d': 1.5459878,\n",
       " 'percent_change_60d': -4.32860077,\n",
       " 'percent_change_90d': 12.34277217,\n",
       " 'market_cap': 1907120327523.4915,\n",
       " 'market_cap_dominance': 60.5195,\n",
       " 'fully_diluted_market_cap': 2020450779143.62,\n",
       " 'tvl': None,\n",
       " 'last_updated': '2025-02-09T19:04:00.000Z'}"
      ]
     },
     "execution_count": 62,
     "metadata": {},
     "output_type": "execute_result"
    }
   ],
   "source": [
    "quote =coin_data[\"quote\"][\"USD\"]\n",
    "quote"
   ]
  },
  {
   "cell_type": "code",
   "execution_count": 63,
   "metadata": {},
   "outputs": [
    {
     "data": {
      "text/plain": [
       "(96211.94186398202, 23816988767.60267, '2025-02-09T19:04:00.000Z')"
      ]
     },
     "execution_count": 63,
     "metadata": {},
     "output_type": "execute_result"
    }
   ],
   "source": [
    "quote[\"price\"], quote[\"volume_24h\"], quote[\"last_updated\"]\n"
   ]
  }
 ],
 "metadata": {
  "kernelspec": {
   "display_name": "Python 3",
   "language": "python",
   "name": "python3"
  },
  "language_info": {
   "codemirror_mode": {
    "name": "ipython",
    "version": 3
   },
   "file_extension": ".py",
   "mimetype": "text/x-python",
   "name": "python",
   "nbconvert_exporter": "python",
   "pygments_lexer": "ipython3",
   "version": "3.12.5"
  }
 },
 "nbformat": 4,
 "nbformat_minor": 2
}
